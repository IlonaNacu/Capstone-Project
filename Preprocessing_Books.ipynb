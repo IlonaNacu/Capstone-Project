{
 "cells": [
  {
   "cell_type": "code",
   "execution_count": null,
   "metadata": {},
   "outputs": [],
   "source": [
    "import pandas as pd"
   ]
  },
  {
   "cell_type": "markdown",
   "metadata": {},
   "source": [
    "------------------------------------------------------------------------\n",
    "https://www.kaggle.com/datasets/mohamedbakhet/amazon-books-reviews?select=books_data.csv"
   ]
  },
  {
   "cell_type": "code",
   "execution_count": null,
   "metadata": {},
   "outputs": [],
   "source": [
    "books_data = pd.read_csv('C:\\\\Users\\huawei\\\\Documents\\\\GitHub\\\\Capstone-Project\\\\Book_Files\\\\Books_data.csv')\n"
   ]
  },
  {
   "cell_type": "code",
   "execution_count": null,
   "metadata": {},
   "outputs": [],
   "source": [
    "books_ratings = pd.read_csv('C:\\\\Users\\huawei\\\\Documents\\\\GitHub\\\\Capstone-Project\\\\Book_Files\\\\Books_ratings.csv')\n"
   ]
  },
  {
   "cell_type": "markdown",
   "metadata": {},
   "source": [
    "-------------------------------------------------------------\n",
    "https://www.kaggle.com/datasets/ruchi798/bookcrossing-dataset"
   ]
  },
  {
   "cell_type": "code",
   "execution_count": null,
   "metadata": {},
   "outputs": [],
   "source": [
    "preproc_books = pd.read_csv('C:\\\\Users\\huawei\\\\Documents\\\\GitHub\\\\Capstone-Project\\\\Book_Files\\\\Preprocessed_data.csv')\n"
   ]
  }
 ],
 "metadata": {
  "language_info": {
   "name": "python"
  }
 },
 "nbformat": 4,
 "nbformat_minor": 2
}
