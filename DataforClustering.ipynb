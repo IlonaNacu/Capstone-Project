{
 "cells": [
  {
   "cell_type": "markdown",
   "metadata": {},
   "source": [
    "# **<h3 align=\"center\"> Capstone Project</h3>**\n",
    "## **<h3 align=\"center\"> Segmentation Analysis - Classification Problem </h3>**\n",
    "**Group members:**<br>\n",
    "Alexandra Pinto - 20211599@novaims.unl.pt - 20211599<br>\n",
    "Ilona Nacu - 20211602@novaims.unl.pt - 20211602<br>\n",
    "Francisco Farinha - 20211550@novaims.unl.pt - 20211550<br>\n",
    "João Barradas - 20211590@novaims.unl.pt - 20211590<br>\n",
    "Rafael Proença  - 2021681@novaims.unl.pt - 2021681<br>"
   ]
  },
  {
   "cell_type": "markdown",
   "metadata": {},
   "source": [
    "-----------------------------------------------------\n",
    "In this notebook we will use two datasets to have more info about costumers. Our goal is to do segmentation of our cluters. <br>\n",
    "For this, we decided to use one of the datasets that firstly we selected for doing the DataBase of movies. This dataset boasts numerous compelling features that we believe will significantly enhance the segmentation process. Rather than generating potentially unreliable or untruthful data, tapping into this existing dataset appears to be a more reliable and insightful approach"
   ]
  },
  {
   "cell_type": "markdown",
   "metadata": {},
   "source": [
    "## Imports"
   ]
  },
  {
   "cell_type": "code",
   "execution_count": 1,
   "metadata": {},
   "outputs": [],
   "source": [
    "import pandas as pd\n"
   ]
  },
  {
   "cell_type": "markdown",
   "metadata": {},
   "source": [
    "## Loading the data"
   ]
  },
  {
   "cell_type": "code",
   "execution_count": 2,
   "metadata": {},
   "outputs": [],
   "source": [
    "rot_reviews = pd.read_csv('Data/Movie_files/archive (2)/rotten_tomatoes_movie_reviews.csv')\n",
    "rot_movies = pd.read_csv('Data/Movie_files/archive (2)/rotten_tomatoes_movies.csv')"
   ]
  },
  {
   "cell_type": "markdown",
   "metadata": {},
   "source": [
    "## Preparing data"
   ]
  },
  {
   "cell_type": "markdown",
   "metadata": {},
   "source": [
    "https://www.kaggle.com/datasets/stefanoleone992/rotten-tomatoes-movies-and-critic-reviews-dataset?select=rotten_tomatoes_critic_reviews.csv"
   ]
  },
  {
   "cell_type": "code",
   "execution_count": 3,
   "metadata": {},
   "outputs": [
    {
     "name": "stdout",
     "output_type": "stream",
     "text": [
      "<class 'pandas.core.frame.DataFrame'>\n",
      "RangeIndex: 1444963 entries, 0 to 1444962\n",
      "Data columns (total 11 columns):\n",
      " #   Column          Non-Null Count    Dtype \n",
      "---  ------          --------------    ----- \n",
      " 0   id              1444963 non-null  object\n",
      " 1   reviewId        1444963 non-null  int64 \n",
      " 2   creationDate    1444963 non-null  object\n",
      " 3   criticName      1444963 non-null  object\n",
      " 4   isTopCritic     1444963 non-null  bool  \n",
      " 5   originalScore   1009745 non-null  object\n",
      " 6   reviewState     1444963 non-null  object\n",
      " 7   publicatioName  1444963 non-null  object\n",
      " 8   reviewText      1375738 non-null  object\n",
      " 9   scoreSentiment  1444963 non-null  object\n",
      " 10  reviewUrl       1234038 non-null  object\n",
      "dtypes: bool(1), int64(1), object(9)\n",
      "memory usage: 111.6+ MB\n"
     ]
    }
   ],
   "source": [
    "rot_reviews.info()"
   ]
  },
  {
   "cell_type": "code",
   "execution_count": 4,
   "metadata": {},
   "outputs": [
    {
     "data": {
      "text/html": [
       "<div>\n",
       "<style scoped>\n",
       "    .dataframe tbody tr th:only-of-type {\n",
       "        vertical-align: middle;\n",
       "    }\n",
       "\n",
       "    .dataframe tbody tr th {\n",
       "        vertical-align: top;\n",
       "    }\n",
       "\n",
       "    .dataframe thead th {\n",
       "        text-align: right;\n",
       "    }\n",
       "</style>\n",
       "<table border=\"1\" class=\"dataframe\">\n",
       "  <thead>\n",
       "    <tr style=\"text-align: right;\">\n",
       "      <th></th>\n",
       "      <th>id</th>\n",
       "      <th>reviewId</th>\n",
       "      <th>creationDate</th>\n",
       "      <th>criticName</th>\n",
       "      <th>isTopCritic</th>\n",
       "      <th>originalScore</th>\n",
       "      <th>reviewState</th>\n",
       "      <th>publicatioName</th>\n",
       "      <th>reviewText</th>\n",
       "      <th>scoreSentiment</th>\n",
       "      <th>reviewUrl</th>\n",
       "    </tr>\n",
       "  </thead>\n",
       "  <tbody>\n",
       "    <tr>\n",
       "      <th>0</th>\n",
       "      <td>beavers</td>\n",
       "      <td>1145982</td>\n",
       "      <td>2003-05-23</td>\n",
       "      <td>Ivan M. Lincoln</td>\n",
       "      <td>False</td>\n",
       "      <td>3.5/4</td>\n",
       "      <td>fresh</td>\n",
       "      <td>Deseret News (Salt Lake City)</td>\n",
       "      <td>Timed to be just long enough for most youngste...</td>\n",
       "      <td>POSITIVE</td>\n",
       "      <td>http://www.deseretnews.com/article/700003233/B...</td>\n",
       "    </tr>\n",
       "    <tr>\n",
       "      <th>1</th>\n",
       "      <td>blood_mask</td>\n",
       "      <td>1636744</td>\n",
       "      <td>2007-06-02</td>\n",
       "      <td>The Foywonder</td>\n",
       "      <td>False</td>\n",
       "      <td>1/5</td>\n",
       "      <td>rotten</td>\n",
       "      <td>Dread Central</td>\n",
       "      <td>It doesn't matter if a movie costs 300 million...</td>\n",
       "      <td>NEGATIVE</td>\n",
       "      <td>http://www.dreadcentral.com/index.php?name=Rev...</td>\n",
       "    </tr>\n",
       "    <tr>\n",
       "      <th>2</th>\n",
       "      <td>city_hunter_shinjuku_private_eyes</td>\n",
       "      <td>2590987</td>\n",
       "      <td>2019-05-28</td>\n",
       "      <td>Reuben Baron</td>\n",
       "      <td>False</td>\n",
       "      <td>NaN</td>\n",
       "      <td>fresh</td>\n",
       "      <td>CBR</td>\n",
       "      <td>The choreography is so precise and lifelike at...</td>\n",
       "      <td>POSITIVE</td>\n",
       "      <td>https://www.cbr.com/city-hunter-shinjuku-priva...</td>\n",
       "    </tr>\n",
       "    <tr>\n",
       "      <th>3</th>\n",
       "      <td>city_hunter_shinjuku_private_eyes</td>\n",
       "      <td>2558908</td>\n",
       "      <td>2019-02-14</td>\n",
       "      <td>Matt Schley</td>\n",
       "      <td>False</td>\n",
       "      <td>2.5/5</td>\n",
       "      <td>rotten</td>\n",
       "      <td>Japan Times</td>\n",
       "      <td>The film's out-of-touch attempts at humor may ...</td>\n",
       "      <td>NEGATIVE</td>\n",
       "      <td>https://www.japantimes.co.jp/culture/2019/02/0...</td>\n",
       "    </tr>\n",
       "    <tr>\n",
       "      <th>4</th>\n",
       "      <td>dangerous_men_2015</td>\n",
       "      <td>2504681</td>\n",
       "      <td>2018-08-29</td>\n",
       "      <td>Pat Padua</td>\n",
       "      <td>False</td>\n",
       "      <td>NaN</td>\n",
       "      <td>fresh</td>\n",
       "      <td>DCist</td>\n",
       "      <td>Its clumsy determination is endearing and some...</td>\n",
       "      <td>POSITIVE</td>\n",
       "      <td>http://dcist.com/2015/11/out_of_frame_dangerou...</td>\n",
       "    </tr>\n",
       "    <tr>\n",
       "      <th>...</th>\n",
       "      <td>...</td>\n",
       "      <td>...</td>\n",
       "      <td>...</td>\n",
       "      <td>...</td>\n",
       "      <td>...</td>\n",
       "      <td>...</td>\n",
       "      <td>...</td>\n",
       "      <td>...</td>\n",
       "      <td>...</td>\n",
       "      <td>...</td>\n",
       "      <td>...</td>\n",
       "    </tr>\n",
       "    <tr>\n",
       "      <th>1444958</th>\n",
       "      <td>thor_love_and_thunder</td>\n",
       "      <td>102706151</td>\n",
       "      <td>2022-07-05</td>\n",
       "      <td>Christie Cronan</td>\n",
       "      <td>False</td>\n",
       "      <td>7/10</td>\n",
       "      <td>fresh</td>\n",
       "      <td>Raising Whasians</td>\n",
       "      <td>Solid but not totally sold&amp;#44; Thor&amp;#58; Ragn...</td>\n",
       "      <td>POSITIVE</td>\n",
       "      <td>https://raisingwhasians.com/thor-love-and-thun...</td>\n",
       "    </tr>\n",
       "    <tr>\n",
       "      <th>1444959</th>\n",
       "      <td>thor_love_and_thunder</td>\n",
       "      <td>102706150</td>\n",
       "      <td>2022-07-05</td>\n",
       "      <td>Ian Sandwell</td>\n",
       "      <td>False</td>\n",
       "      <td>4/5</td>\n",
       "      <td>fresh</td>\n",
       "      <td>Digital Spy</td>\n",
       "      <td>Thor&amp;#58; Love and Thunder is the most enterta...</td>\n",
       "      <td>POSITIVE</td>\n",
       "      <td>https://www.digitalspy.com/movies/a40496050/th...</td>\n",
       "    </tr>\n",
       "    <tr>\n",
       "      <th>1444960</th>\n",
       "      <td>thor_love_and_thunder</td>\n",
       "      <td>102706149</td>\n",
       "      <td>2022-07-05</td>\n",
       "      <td>Lauren LaMagna</td>\n",
       "      <td>False</td>\n",
       "      <td>8/10</td>\n",
       "      <td>fresh</td>\n",
       "      <td>Next Best Picture</td>\n",
       "      <td>&amp;quot;Thor&amp;#58; Love and Thunder&amp;quot; is a st...</td>\n",
       "      <td>POSITIVE</td>\n",
       "      <td>https://www.nextbestpicture.com/thor-love-and-...</td>\n",
       "    </tr>\n",
       "    <tr>\n",
       "      <th>1444961</th>\n",
       "      <td>thor_love_and_thunder</td>\n",
       "      <td>102706148</td>\n",
       "      <td>2022-07-05</td>\n",
       "      <td>Jake Cole</td>\n",
       "      <td>True</td>\n",
       "      <td>1/4</td>\n",
       "      <td>rotten</td>\n",
       "      <td>Slant Magazine</td>\n",
       "      <td>Across Taika Waititi&amp;#8217;s film&amp;#44; a war a...</td>\n",
       "      <td>NEGATIVE</td>\n",
       "      <td>https://www.slantmagazine.com/film/thor-love-a...</td>\n",
       "    </tr>\n",
       "    <tr>\n",
       "      <th>1444962</th>\n",
       "      <td>thor_love_and_thunder</td>\n",
       "      <td>102706147</td>\n",
       "      <td>2022-07-05</td>\n",
       "      <td>Roger Moore</td>\n",
       "      <td>False</td>\n",
       "      <td>2.5/4</td>\n",
       "      <td>fresh</td>\n",
       "      <td>Movie Nation</td>\n",
       "      <td>It&amp;#8217;s the jokes that make it&amp;#44; with th...</td>\n",
       "      <td>POSITIVE</td>\n",
       "      <td>https://rogersmovienation.com/2022/07/05/movie...</td>\n",
       "    </tr>\n",
       "  </tbody>\n",
       "</table>\n",
       "<p>1444963 rows × 11 columns</p>\n",
       "</div>"
      ],
      "text/plain": [
       "                                        id   reviewId creationDate  \\\n",
       "0                                  beavers    1145982   2003-05-23   \n",
       "1                               blood_mask    1636744   2007-06-02   \n",
       "2        city_hunter_shinjuku_private_eyes    2590987   2019-05-28   \n",
       "3        city_hunter_shinjuku_private_eyes    2558908   2019-02-14   \n",
       "4                       dangerous_men_2015    2504681   2018-08-29   \n",
       "...                                    ...        ...          ...   \n",
       "1444958              thor_love_and_thunder  102706151   2022-07-05   \n",
       "1444959              thor_love_and_thunder  102706150   2022-07-05   \n",
       "1444960              thor_love_and_thunder  102706149   2022-07-05   \n",
       "1444961              thor_love_and_thunder  102706148   2022-07-05   \n",
       "1444962              thor_love_and_thunder  102706147   2022-07-05   \n",
       "\n",
       "              criticName  isTopCritic originalScore reviewState  \\\n",
       "0        Ivan M. Lincoln        False         3.5/4       fresh   \n",
       "1          The Foywonder        False           1/5      rotten   \n",
       "2           Reuben Baron        False           NaN       fresh   \n",
       "3            Matt Schley        False         2.5/5      rotten   \n",
       "4              Pat Padua        False           NaN       fresh   \n",
       "...                  ...          ...           ...         ...   \n",
       "1444958  Christie Cronan        False          7/10       fresh   \n",
       "1444959     Ian Sandwell        False           4/5       fresh   \n",
       "1444960   Lauren LaMagna        False          8/10       fresh   \n",
       "1444961        Jake Cole         True           1/4      rotten   \n",
       "1444962      Roger Moore        False         2.5/4       fresh   \n",
       "\n",
       "                        publicatioName  \\\n",
       "0        Deseret News (Salt Lake City)   \n",
       "1                        Dread Central   \n",
       "2                                  CBR   \n",
       "3                          Japan Times   \n",
       "4                                DCist   \n",
       "...                                ...   \n",
       "1444958               Raising Whasians   \n",
       "1444959                    Digital Spy   \n",
       "1444960              Next Best Picture   \n",
       "1444961                 Slant Magazine   \n",
       "1444962                   Movie Nation   \n",
       "\n",
       "                                                reviewText scoreSentiment  \\\n",
       "0        Timed to be just long enough for most youngste...       POSITIVE   \n",
       "1        It doesn't matter if a movie costs 300 million...       NEGATIVE   \n",
       "2        The choreography is so precise and lifelike at...       POSITIVE   \n",
       "3        The film's out-of-touch attempts at humor may ...       NEGATIVE   \n",
       "4        Its clumsy determination is endearing and some...       POSITIVE   \n",
       "...                                                    ...            ...   \n",
       "1444958  Solid but not totally sold&#44; Thor&#58; Ragn...       POSITIVE   \n",
       "1444959  Thor&#58; Love and Thunder is the most enterta...       POSITIVE   \n",
       "1444960  &quot;Thor&#58; Love and Thunder&quot; is a st...       POSITIVE   \n",
       "1444961  Across Taika Waititi&#8217;s film&#44; a war a...       NEGATIVE   \n",
       "1444962  It&#8217;s the jokes that make it&#44; with th...       POSITIVE   \n",
       "\n",
       "                                                 reviewUrl  \n",
       "0        http://www.deseretnews.com/article/700003233/B...  \n",
       "1        http://www.dreadcentral.com/index.php?name=Rev...  \n",
       "2        https://www.cbr.com/city-hunter-shinjuku-priva...  \n",
       "3        https://www.japantimes.co.jp/culture/2019/02/0...  \n",
       "4        http://dcist.com/2015/11/out_of_frame_dangerou...  \n",
       "...                                                    ...  \n",
       "1444958  https://raisingwhasians.com/thor-love-and-thun...  \n",
       "1444959  https://www.digitalspy.com/movies/a40496050/th...  \n",
       "1444960  https://www.nextbestpicture.com/thor-love-and-...  \n",
       "1444961  https://www.slantmagazine.com/film/thor-love-a...  \n",
       "1444962  https://rogersmovienation.com/2022/07/05/movie...  \n",
       "\n",
       "[1444963 rows x 11 columns]"
      ]
     },
     "execution_count": 4,
     "metadata": {},
     "output_type": "execute_result"
    }
   ],
   "source": [
    "rot_reviews"
   ]
  },
  {
   "cell_type": "code",
   "execution_count": 5,
   "metadata": {},
   "outputs": [
    {
     "name": "stdout",
     "output_type": "stream",
     "text": [
      "<class 'pandas.core.frame.DataFrame'>\n",
      "RangeIndex: 143258 entries, 0 to 143257\n",
      "Data columns (total 16 columns):\n",
      " #   Column                Non-Null Count   Dtype  \n",
      "---  ------                --------------   -----  \n",
      " 0   id                    143258 non-null  object \n",
      " 1   title                 142891 non-null  object \n",
      " 2   audienceScore         73248 non-null   float64\n",
      " 3   tomatoMeter           33877 non-null   float64\n",
      " 4   rating                13991 non-null   object \n",
      " 5   ratingContents        13991 non-null   object \n",
      " 6   releaseDateTheaters   30773 non-null   object \n",
      " 7   releaseDateStreaming  79420 non-null   object \n",
      " 8   runtimeMinutes        129431 non-null  float64\n",
      " 9   genre                 132175 non-null  object \n",
      " 10  originalLanguage      129400 non-null  object \n",
      " 11  director              139041 non-null  object \n",
      " 12  writer                90116 non-null   object \n",
      " 13  boxOffice             14743 non-null   object \n",
      " 14  distributor           23001 non-null   object \n",
      " 15  soundMix              15917 non-null   object \n",
      "dtypes: float64(3), object(13)\n",
      "memory usage: 17.5+ MB\n"
     ]
    }
   ],
   "source": [
    "rot_movies.info()"
   ]
  },
  {
   "cell_type": "code",
   "execution_count": 6,
   "metadata": {},
   "outputs": [
    {
     "data": {
      "text/html": [
       "<div>\n",
       "<style scoped>\n",
       "    .dataframe tbody tr th:only-of-type {\n",
       "        vertical-align: middle;\n",
       "    }\n",
       "\n",
       "    .dataframe tbody tr th {\n",
       "        vertical-align: top;\n",
       "    }\n",
       "\n",
       "    .dataframe thead th {\n",
       "        text-align: right;\n",
       "    }\n",
       "</style>\n",
       "<table border=\"1\" class=\"dataframe\">\n",
       "  <thead>\n",
       "    <tr style=\"text-align: right;\">\n",
       "      <th></th>\n",
       "      <th>id</th>\n",
       "      <th>title</th>\n",
       "      <th>audienceScore</th>\n",
       "      <th>tomatoMeter</th>\n",
       "      <th>rating</th>\n",
       "      <th>ratingContents</th>\n",
       "      <th>releaseDateTheaters</th>\n",
       "      <th>releaseDateStreaming</th>\n",
       "      <th>runtimeMinutes</th>\n",
       "      <th>genre</th>\n",
       "      <th>originalLanguage</th>\n",
       "      <th>director</th>\n",
       "      <th>writer</th>\n",
       "      <th>boxOffice</th>\n",
       "      <th>distributor</th>\n",
       "      <th>soundMix</th>\n",
       "    </tr>\n",
       "  </thead>\n",
       "  <tbody>\n",
       "    <tr>\n",
       "      <th>0</th>\n",
       "      <td>space-zombie-bingo</td>\n",
       "      <td>Space Zombie Bingo!</td>\n",
       "      <td>50.0</td>\n",
       "      <td>NaN</td>\n",
       "      <td>NaN</td>\n",
       "      <td>NaN</td>\n",
       "      <td>NaN</td>\n",
       "      <td>2018-08-25</td>\n",
       "      <td>75.0</td>\n",
       "      <td>Comedy, Horror, Sci-fi</td>\n",
       "      <td>English</td>\n",
       "      <td>George Ormrod</td>\n",
       "      <td>George Ormrod,John Sabotta</td>\n",
       "      <td>NaN</td>\n",
       "      <td>NaN</td>\n",
       "      <td>NaN</td>\n",
       "    </tr>\n",
       "    <tr>\n",
       "      <th>1</th>\n",
       "      <td>the_green_grass</td>\n",
       "      <td>The Green Grass</td>\n",
       "      <td>NaN</td>\n",
       "      <td>NaN</td>\n",
       "      <td>NaN</td>\n",
       "      <td>NaN</td>\n",
       "      <td>NaN</td>\n",
       "      <td>2020-02-11</td>\n",
       "      <td>114.0</td>\n",
       "      <td>Drama</td>\n",
       "      <td>English</td>\n",
       "      <td>Tiffany Edwards</td>\n",
       "      <td>Tiffany Edwards</td>\n",
       "      <td>NaN</td>\n",
       "      <td>NaN</td>\n",
       "      <td>NaN</td>\n",
       "    </tr>\n",
       "    <tr>\n",
       "      <th>2</th>\n",
       "      <td>love_lies</td>\n",
       "      <td>Love, Lies</td>\n",
       "      <td>43.0</td>\n",
       "      <td>NaN</td>\n",
       "      <td>NaN</td>\n",
       "      <td>NaN</td>\n",
       "      <td>NaN</td>\n",
       "      <td>NaN</td>\n",
       "      <td>120.0</td>\n",
       "      <td>Drama</td>\n",
       "      <td>Korean</td>\n",
       "      <td>Park Heung-Sik,Heung-Sik Park</td>\n",
       "      <td>Ha Young-Joon,Jeon Yun-su,Song Hye-jin</td>\n",
       "      <td>NaN</td>\n",
       "      <td>NaN</td>\n",
       "      <td>NaN</td>\n",
       "    </tr>\n",
       "    <tr>\n",
       "      <th>3</th>\n",
       "      <td>the_sore_losers_1997</td>\n",
       "      <td>Sore Losers</td>\n",
       "      <td>60.0</td>\n",
       "      <td>NaN</td>\n",
       "      <td>NaN</td>\n",
       "      <td>NaN</td>\n",
       "      <td>NaN</td>\n",
       "      <td>2020-10-23</td>\n",
       "      <td>90.0</td>\n",
       "      <td>Action, Mystery &amp; thriller</td>\n",
       "      <td>English</td>\n",
       "      <td>John Michael McCarthy</td>\n",
       "      <td>John Michael McCarthy</td>\n",
       "      <td>NaN</td>\n",
       "      <td>NaN</td>\n",
       "      <td>NaN</td>\n",
       "    </tr>\n",
       "    <tr>\n",
       "      <th>4</th>\n",
       "      <td>dinosaur_island_2002</td>\n",
       "      <td>Dinosaur Island</td>\n",
       "      <td>70.0</td>\n",
       "      <td>NaN</td>\n",
       "      <td>NaN</td>\n",
       "      <td>NaN</td>\n",
       "      <td>NaN</td>\n",
       "      <td>2017-03-27</td>\n",
       "      <td>80.0</td>\n",
       "      <td>Fantasy, Adventure, Animation</td>\n",
       "      <td>English</td>\n",
       "      <td>Will Meugniot</td>\n",
       "      <td>John Loy</td>\n",
       "      <td>NaN</td>\n",
       "      <td>NaN</td>\n",
       "      <td>NaN</td>\n",
       "    </tr>\n",
       "    <tr>\n",
       "      <th>...</th>\n",
       "      <td>...</td>\n",
       "      <td>...</td>\n",
       "      <td>...</td>\n",
       "      <td>...</td>\n",
       "      <td>...</td>\n",
       "      <td>...</td>\n",
       "      <td>...</td>\n",
       "      <td>...</td>\n",
       "      <td>...</td>\n",
       "      <td>...</td>\n",
       "      <td>...</td>\n",
       "      <td>...</td>\n",
       "      <td>...</td>\n",
       "      <td>...</td>\n",
       "      <td>...</td>\n",
       "      <td>...</td>\n",
       "    </tr>\n",
       "    <tr>\n",
       "      <th>143253</th>\n",
       "      <td>nadia_the_secret_of_blue_water_the_motion_pict...</td>\n",
       "      <td>Nadia: The Secret of Blue Water: The Motion Pi...</td>\n",
       "      <td>14.0</td>\n",
       "      <td>NaN</td>\n",
       "      <td>NaN</td>\n",
       "      <td>NaN</td>\n",
       "      <td>2002-08-27</td>\n",
       "      <td>NaN</td>\n",
       "      <td>90.0</td>\n",
       "      <td>Action, Adventure, Anime</td>\n",
       "      <td>Japanese</td>\n",
       "      <td>Sho Aono</td>\n",
       "      <td>Kaoru Umeno</td>\n",
       "      <td>NaN</td>\n",
       "      <td>ADV Films</td>\n",
       "      <td>NaN</td>\n",
       "    </tr>\n",
       "    <tr>\n",
       "      <th>143254</th>\n",
       "      <td>everyone_i_knew_and_loved</td>\n",
       "      <td>Everyone I Knew and Loved</td>\n",
       "      <td>NaN</td>\n",
       "      <td>NaN</td>\n",
       "      <td>NaN</td>\n",
       "      <td>NaN</td>\n",
       "      <td>NaN</td>\n",
       "      <td>NaN</td>\n",
       "      <td>99.0</td>\n",
       "      <td>Drama</td>\n",
       "      <td>English</td>\n",
       "      <td>Andrew Behringer</td>\n",
       "      <td>Erika Heidewald</td>\n",
       "      <td>NaN</td>\n",
       "      <td>NaN</td>\n",
       "      <td>NaN</td>\n",
       "    </tr>\n",
       "    <tr>\n",
       "      <th>143255</th>\n",
       "      <td>the-human-body</td>\n",
       "      <td>The Human Body</td>\n",
       "      <td>71.0</td>\n",
       "      <td>89.0</td>\n",
       "      <td>NaN</td>\n",
       "      <td>NaN</td>\n",
       "      <td>NaN</td>\n",
       "      <td>NaN</td>\n",
       "      <td>43.0</td>\n",
       "      <td>Documentary</td>\n",
       "      <td>English</td>\n",
       "      <td>Peter Georgi</td>\n",
       "      <td>Richard Dale</td>\n",
       "      <td>NaN</td>\n",
       "      <td>NaN</td>\n",
       "      <td>NaN</td>\n",
       "    </tr>\n",
       "    <tr>\n",
       "      <th>143256</th>\n",
       "      <td>flying_fists</td>\n",
       "      <td>Flying Fists</td>\n",
       "      <td>NaN</td>\n",
       "      <td>NaN</td>\n",
       "      <td>NaN</td>\n",
       "      <td>NaN</td>\n",
       "      <td>NaN</td>\n",
       "      <td>2006-11-21</td>\n",
       "      <td>63.0</td>\n",
       "      <td>Drama</td>\n",
       "      <td>English</td>\n",
       "      <td>Robert F. Hill</td>\n",
       "      <td>Robert F. Hill,Basil Dickey</td>\n",
       "      <td>NaN</td>\n",
       "      <td>NaN</td>\n",
       "      <td>NaN</td>\n",
       "    </tr>\n",
       "    <tr>\n",
       "      <th>143257</th>\n",
       "      <td>awakening-2005</td>\n",
       "      <td>Awakening</td>\n",
       "      <td>NaN</td>\n",
       "      <td>NaN</td>\n",
       "      <td>NaN</td>\n",
       "      <td>NaN</td>\n",
       "      <td>NaN</td>\n",
       "      <td>NaN</td>\n",
       "      <td>90.0</td>\n",
       "      <td>Horror</td>\n",
       "      <td>English</td>\n",
       "      <td>David J. Francis</td>\n",
       "      <td>David J. Francis,Mike Masters</td>\n",
       "      <td>NaN</td>\n",
       "      <td>NaN</td>\n",
       "      <td>NaN</td>\n",
       "    </tr>\n",
       "  </tbody>\n",
       "</table>\n",
       "<p>143258 rows × 16 columns</p>\n",
       "</div>"
      ],
      "text/plain": [
       "                                                       id  \\\n",
       "0                                      space-zombie-bingo   \n",
       "1                                         the_green_grass   \n",
       "2                                               love_lies   \n",
       "3                                    the_sore_losers_1997   \n",
       "4                                    dinosaur_island_2002   \n",
       "...                                                   ...   \n",
       "143253  nadia_the_secret_of_blue_water_the_motion_pict...   \n",
       "143254                          everyone_i_knew_and_loved   \n",
       "143255                                     the-human-body   \n",
       "143256                                       flying_fists   \n",
       "143257                                     awakening-2005   \n",
       "\n",
       "                                                    title  audienceScore  \\\n",
       "0                                     Space Zombie Bingo!           50.0   \n",
       "1                                         The Green Grass            NaN   \n",
       "2                                              Love, Lies           43.0   \n",
       "3                                             Sore Losers           60.0   \n",
       "4                                         Dinosaur Island           70.0   \n",
       "...                                                   ...            ...   \n",
       "143253  Nadia: The Secret of Blue Water: The Motion Pi...           14.0   \n",
       "143254                          Everyone I Knew and Loved            NaN   \n",
       "143255                                     The Human Body           71.0   \n",
       "143256                                       Flying Fists            NaN   \n",
       "143257                                          Awakening            NaN   \n",
       "\n",
       "        tomatoMeter rating ratingContents releaseDateTheaters  \\\n",
       "0               NaN    NaN            NaN                 NaN   \n",
       "1               NaN    NaN            NaN                 NaN   \n",
       "2               NaN    NaN            NaN                 NaN   \n",
       "3               NaN    NaN            NaN                 NaN   \n",
       "4               NaN    NaN            NaN                 NaN   \n",
       "...             ...    ...            ...                 ...   \n",
       "143253          NaN    NaN            NaN          2002-08-27   \n",
       "143254          NaN    NaN            NaN                 NaN   \n",
       "143255         89.0    NaN            NaN                 NaN   \n",
       "143256          NaN    NaN            NaN                 NaN   \n",
       "143257          NaN    NaN            NaN                 NaN   \n",
       "\n",
       "       releaseDateStreaming  runtimeMinutes                          genre  \\\n",
       "0                2018-08-25            75.0         Comedy, Horror, Sci-fi   \n",
       "1                2020-02-11           114.0                          Drama   \n",
       "2                       NaN           120.0                          Drama   \n",
       "3                2020-10-23            90.0     Action, Mystery & thriller   \n",
       "4                2017-03-27            80.0  Fantasy, Adventure, Animation   \n",
       "...                     ...             ...                            ...   \n",
       "143253                  NaN            90.0       Action, Adventure, Anime   \n",
       "143254                  NaN            99.0                          Drama   \n",
       "143255                  NaN            43.0                    Documentary   \n",
       "143256           2006-11-21            63.0                          Drama   \n",
       "143257                  NaN            90.0                         Horror   \n",
       "\n",
       "       originalLanguage                       director  \\\n",
       "0               English                  George Ormrod   \n",
       "1               English                Tiffany Edwards   \n",
       "2                Korean  Park Heung-Sik,Heung-Sik Park   \n",
       "3               English          John Michael McCarthy   \n",
       "4               English                  Will Meugniot   \n",
       "...                 ...                            ...   \n",
       "143253         Japanese                       Sho Aono   \n",
       "143254          English               Andrew Behringer   \n",
       "143255          English                   Peter Georgi   \n",
       "143256          English                 Robert F. Hill   \n",
       "143257          English               David J. Francis   \n",
       "\n",
       "                                        writer boxOffice distributor soundMix  \n",
       "0                   George Ormrod,John Sabotta       NaN         NaN      NaN  \n",
       "1                              Tiffany Edwards       NaN         NaN      NaN  \n",
       "2       Ha Young-Joon,Jeon Yun-su,Song Hye-jin       NaN         NaN      NaN  \n",
       "3                        John Michael McCarthy       NaN         NaN      NaN  \n",
       "4                                     John Loy       NaN         NaN      NaN  \n",
       "...                                        ...       ...         ...      ...  \n",
       "143253                             Kaoru Umeno       NaN   ADV Films      NaN  \n",
       "143254                         Erika Heidewald       NaN         NaN      NaN  \n",
       "143255                            Richard Dale       NaN         NaN      NaN  \n",
       "143256             Robert F. Hill,Basil Dickey       NaN         NaN      NaN  \n",
       "143257           David J. Francis,Mike Masters       NaN         NaN      NaN  \n",
       "\n",
       "[143258 rows x 16 columns]"
      ]
     },
     "execution_count": 6,
     "metadata": {},
     "output_type": "execute_result"
    }
   ],
   "source": [
    "rot_movies"
   ]
  },
  {
   "cell_type": "code",
   "execution_count": 7,
   "metadata": {},
   "outputs": [],
   "source": [
    "merged_rot = pd.merge(rot_reviews, rot_movies, on='id', how='inner')"
   ]
  },
  {
   "cell_type": "code",
   "execution_count": 8,
   "metadata": {},
   "outputs": [
    {
     "name": "stdout",
     "output_type": "stream",
     "text": [
      "\n",
      "DataFrame after dropping duplicates based on 'title':\n",
      "(63406, 26)\n"
     ]
    }
   ],
   "source": [
    "merged_rot = merged_rot.drop_duplicates(subset='title')\n",
    "\n",
    "print(\"\\nDataFrame after dropping duplicates based on 'title':\")\n",
    "print(merged_rot.shape)\n"
   ]
  },
  {
   "cell_type": "code",
   "execution_count": 9,
   "metadata": {},
   "outputs": [],
   "source": [
    "columns_to_drop = ['id', 'reviewId', 'creationDate', 'publicatioName', 'reviewText', 'reviewUrl', 'title',\n",
    "                    'rating', 'ratingContents', 'runtimeMinutes', 'boxOffice', 'distributor', 'soundMix']\n",
    "\n",
    "merged_rot.drop(columns=columns_to_drop, inplace=True)"
   ]
  },
  {
   "cell_type": "code",
   "execution_count": 10,
   "metadata": {},
   "outputs": [
    {
     "name": "stdout",
     "output_type": "stream",
     "text": [
      "<class 'pandas.core.frame.DataFrame'>\n",
      "Index: 63406 entries, 0 to 1469109\n",
      "Data columns (total 13 columns):\n",
      " #   Column                Non-Null Count  Dtype  \n",
      "---  ------                --------------  -----  \n",
      " 0   criticName            63406 non-null  object \n",
      " 1   isTopCritic           63406 non-null  bool   \n",
      " 2   originalScore         37270 non-null  object \n",
      " 3   reviewState           63406 non-null  object \n",
      " 4   scoreSentiment        63406 non-null  object \n",
      " 5   audienceScore         45729 non-null  float64\n",
      " 6   tomatoMeter           30189 non-null  float64\n",
      " 7   releaseDateTheaters   22562 non-null  object \n",
      " 8   releaseDateStreaming  43425 non-null  object \n",
      " 9   genre                 57609 non-null  object \n",
      " 10  originalLanguage      56808 non-null  object \n",
      " 11  director              62623 non-null  object \n",
      " 12  writer                42489 non-null  object \n",
      "dtypes: bool(1), float64(2), object(10)\n",
      "memory usage: 6.3+ MB\n"
     ]
    }
   ],
   "source": [
    "merged_rot.info()"
   ]
  },
  {
   "cell_type": "code",
   "execution_count": 11,
   "metadata": {},
   "outputs": [
    {
     "name": "stdout",
     "output_type": "stream",
     "text": [
      "Percentage of missing values\n",
      "criticName: 0%\n",
      "isTopCritic: 0%\n",
      "originalScore: 41%\n",
      "reviewState: 0%\n",
      "scoreSentiment: 0%\n",
      "audienceScore: 28%\n",
      "tomatoMeter: 52%\n",
      "releaseDateTheaters: 64%\n",
      "releaseDateStreaming: 32%\n",
      "genre: 9%\n",
      "originalLanguage: 10%\n",
      "director: 1%\n",
      "writer: 33%\n"
     ]
    }
   ],
   "source": [
    "print(\"Percentage of missing values\")\n",
    "for col in merged_rot:\n",
    "    print(col + \": \" + str(round(len(merged_rot[merged_rot[col].isnull()])/len(merged_rot)*100))+\"%\")"
   ]
  },
  {
   "cell_type": "markdown",
   "metadata": {},
   "source": [
    "We can eliminate the missing values in 'director' since its only 1% percent and the features that present a missing value percentage above 50%. The rest of them we will decide what to do with them later, because first we have to transform the features to make them easier to deal with. "
   ]
  },
  {
   "cell_type": "code",
   "execution_count": 12,
   "metadata": {},
   "outputs": [
    {
     "name": "stdout",
     "output_type": "stream",
     "text": [
      "\n",
      "DataFrame after dropping duplicates based on 'director':\n",
      "(62623, 13)\n"
     ]
    }
   ],
   "source": [
    "merged_rot = merged_rot.dropna(subset='director')\n",
    "\n",
    "print(\"\\nDataFrame after dropping duplicates based on 'director':\")\n",
    "print(merged_rot.shape)"
   ]
  },
  {
   "cell_type": "code",
   "execution_count": 16,
   "metadata": {},
   "outputs": [],
   "source": [
    "columns_to_drop = ['tomatoMeter', 'releaseDateTheaters']\n",
    "\n",
    "merged_rot.drop(columns=columns_to_drop, inplace=True)"
   ]
  },
  {
   "cell_type": "code",
   "execution_count": 19,
   "metadata": {},
   "outputs": [
    {
     "data": {
      "text/plain": [
       "Index(['criticName', 'isTopCritic', 'originalScore', 'reviewState',\n",
       "       'scoreSentiment', 'audienceScore', 'releaseDateStreaming', 'genre',\n",
       "       'originalLanguage', 'director', 'writer'],\n",
       "      dtype='object')"
      ]
     },
     "execution_count": 19,
     "metadata": {},
     "output_type": "execute_result"
    }
   ],
   "source": [
    "merged_rot.columns"
   ]
  },
  {
   "cell_type": "code",
   "execution_count": 23,
   "metadata": {},
   "outputs": [
    {
     "data": {
      "text/plain": [
       "isTopCritic\n",
       "False    52814\n",
       "True      9809\n",
       "Name: count, dtype: int64"
      ]
     },
     "execution_count": 23,
     "metadata": {},
     "output_type": "execute_result"
    }
   ],
   "source": [
    "merged_rot['isTopCritic'].value_counts()"
   ]
  },
  {
   "cell_type": "code",
   "execution_count": 22,
   "metadata": {},
   "outputs": [
    {
     "data": {
      "text/plain": [
       "originalScore\n",
       "3/5         4938\n",
       "2/5         4042\n",
       "4/5         3305\n",
       "3.5/5       1759\n",
       "3/4         1730\n",
       "            ... \n",
       "4 stars        1\n",
       "4.12/10        1\n",
       "ONE STAR       1\n",
       "5.9/10         1\n",
       "3.8/10         1\n",
       "Name: count, Length: 384, dtype: int64"
      ]
     },
     "execution_count": 22,
     "metadata": {},
     "output_type": "execute_result"
    }
   ],
   "source": [
    "merged_rot['originalScore'].value_counts()"
   ]
  },
  {
   "cell_type": "code",
   "execution_count": 24,
   "metadata": {},
   "outputs": [
    {
     "data": {
      "text/plain": [
       "reviewState\n",
       "fresh     41031\n",
       "rotten    21592\n",
       "Name: count, dtype: int64"
      ]
     },
     "execution_count": 24,
     "metadata": {},
     "output_type": "execute_result"
    }
   ],
   "source": [
    "merged_rot['reviewState'].value_counts()"
   ]
  },
  {
   "cell_type": "code",
   "execution_count": 25,
   "metadata": {},
   "outputs": [
    {
     "data": {
      "text/plain": [
       "scoreSentiment\n",
       "POSITIVE    41031\n",
       "NEGATIVE    21592\n",
       "Name: count, dtype: int64"
      ]
     },
     "execution_count": 25,
     "metadata": {},
     "output_type": "execute_result"
    }
   ],
   "source": [
    "merged_rot['scoreSentiment'].value_counts()"
   ]
  },
  {
   "cell_type": "code",
   "execution_count": null,
   "metadata": {},
   "outputs": [],
   "source": [
    "merged_rot['audienceScore'].value_counts()"
   ]
  },
  {
   "cell_type": "code",
   "execution_count": 27,
   "metadata": {},
   "outputs": [
    {
     "data": {
      "text/plain": [
       "releaseDateStreaming\n",
       "2017-05-22    271\n",
       "2016-08-10    268\n",
       "2016-11-30    215\n",
       "2017-05-23    177\n",
       "2017-03-23    161\n",
       "             ... \n",
       "2014-09-03      1\n",
       "2019-09-11      1\n",
       "2004-02-23      1\n",
       "2010-03-20      1\n",
       "2018-06-18      1\n",
       "Name: count, Length: 4203, dtype: int64"
      ]
     },
     "execution_count": 27,
     "metadata": {},
     "output_type": "execute_result"
    }
   ],
   "source": [
    "merged_rot['releaseDateStreaming'].value_counts()"
   ]
  },
  {
   "cell_type": "markdown",
   "metadata": {},
   "source": [
    "#considerar tirar as combinações de generos q aparecem poucas vezes"
   ]
  },
  {
   "cell_type": "code",
   "execution_count": 33,
   "metadata": {},
   "outputs": [
    {
     "data": {
      "text/plain": [
       "1128"
      ]
     },
     "execution_count": 33,
     "metadata": {},
     "output_type": "execute_result"
    }
   ],
   "source": [
    "sum(merged_rot['genre'].value_counts() == 1) "
   ]
  },
  {
   "cell_type": "code",
   "execution_count": 34,
   "metadata": {},
   "outputs": [
    {
     "data": {
      "text/plain": [
       "originalLanguage\n",
       "English                     40606\n",
       "Spanish                      1527\n",
       "English (United Kingdom)     1260\n",
       "Hindi                        1257\n",
       "French (Canada)              1238\n",
       "                            ...  \n",
       "Navajo                          1\n",
       "Belarusian                      1\n",
       "nah                             1\n",
       "Luxembourgish                   1\n",
       "shg                             1\n",
       "Name: count, Length: 107, dtype: int64"
      ]
     },
     "execution_count": 34,
     "metadata": {},
     "output_type": "execute_result"
    }
   ],
   "source": [
    "merged_rot['originalLanguage'].value_counts()"
   ]
  },
  {
   "cell_type": "code",
   "execution_count": 35,
   "metadata": {},
   "outputs": [
    {
     "data": {
      "text/plain": [
       "director\n",
       "Unknown Director             1396\n",
       "Michael Curtiz                 61\n",
       "Raoul Walsh                    57\n",
       "John Ford                      56\n",
       "Gordon Douglas                 45\n",
       "                             ... \n",
       "Stephan Hilpert                 1\n",
       "John Hoffman                    1\n",
       "Ko Myoung-sung                  1\n",
       "Kat Rohrer,Gil Levanon          1\n",
       "Arab Nasser,Tarzan Nasser       1\n",
       "Name: count, Length: 31293, dtype: int64"
      ]
     },
     "execution_count": 35,
     "metadata": {},
     "output_type": "execute_result"
    }
   ],
   "source": [
    "merged_rot['director'].value_counts()"
   ]
  },
  {
   "cell_type": "code",
   "execution_count": 36,
   "metadata": {},
   "outputs": [
    {
     "data": {
      "text/plain": [
       "writer\n",
       "Woody Allen                                   37\n",
       "Ingmar Bergman                                28\n",
       "Werner Herzog                                 26\n",
       "Mark Monroe                                   25\n",
       "Tyler Perry                                   23\n",
       "                                              ..\n",
       "Sylvia Tate,Alan Campbell,Norman Foster        1\n",
       "Hari Krishnan                                  1\n",
       "Ché Baker,Dallas Bland,Sarah Mason             1\n",
       "Anniken Hoel,Andrew Grant,Espen Andreassen     1\n",
       "Taika Waititi,Jennifer Kaytin Robinson         1\n",
       "Name: count, Length: 33882, dtype: int64"
      ]
     },
     "execution_count": 36,
     "metadata": {},
     "output_type": "execute_result"
    }
   ],
   "source": [
    "merged_rot['writer'].value_counts()"
   ]
  },
  {
   "cell_type": "markdown",
   "metadata": {},
   "source": [
    "In 'isTopCritic' we can transform the boolean variable to a binary one. In 'originalScore' there are multiple scales regarding the score value, we will adjust all score values to the same scale and the name of the variable to 'reviewScore. In 'reviewState' we will convert 'rotten' and 'fresh' to 0 and 1, respectively. To 'scoreSentiment' we will do the same thing by replacing 'NEGATIVE' and 'POSITIVE' by 0 and 1, and replace the variable name by 'reviewSentiment'. 'audienceScore' we will adjust the values to the same scale of 'originalScore'. To 'releaseDateStreaming' we will only perseve the year the movie became avaiable on streaming and with that change the variable name to 'YearMovieAvaiableStreaming'. We can also change various variable names such as 'genre', 'originalLanguage', 'director' and 'writer' to 'MovieGenre', 'MovieOriginalLanguage', 'MovieDirector' and 'MovieWriter', respectively."
   ]
  },
  {
   "cell_type": "code",
   "execution_count": null,
   "metadata": {},
   "outputs": [],
   "source": []
  }
 ],
 "metadata": {
  "kernelspec": {
   "display_name": "env",
   "language": "python",
   "name": "python3"
  },
  "language_info": {
   "codemirror_mode": {
    "name": "ipython",
    "version": 3
   },
   "file_extension": ".py",
   "mimetype": "text/x-python",
   "name": "python",
   "nbconvert_exporter": "python",
   "pygments_lexer": "ipython3",
   "version": "3.11.7"
  }
 },
 "nbformat": 4,
 "nbformat_minor": 2
}
