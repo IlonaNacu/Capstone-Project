{
 "cells": [
  {
   "cell_type": "markdown",
   "metadata": {},
   "source": [
    "\n",
    "# **<h3 align=\"center\"> Capstone Project</h3>**\n",
    "## **<h3 align=\"center\">Series/ Tv Show - MetaData</h3>**\n",
    "**Group members:**<br>\n",
    "Alexandra Pinto - 20211599@novaims.unl.pt - 20211599<br>\n",
    "Ilona Nacu - 20211602@novaims.unl.pt - 20211602<br>\n",
    "Francisco Farinha - 20211550@novaims.unl.pt - 20211550<br>\n",
    "João Barradas - 20211590@novaims.unl.pt - 20211590<br>\n",
    "Rafael Proença  - 2021681@novaims.unl.pt - 2021681<br>\n",
    "\n"
   ]
  },
  {
   "cell_type": "markdown",
   "metadata": {},
   "source": [
    "-----------------------------\n",
    "## Imports"
   ]
  },
  {
   "cell_type": "code",
   "execution_count": 1,
   "metadata": {},
   "outputs": [],
   "source": [
    "import pandas as pd\n",
    "import numpy as np\n",
    "import os\n"
   ]
  },
  {
   "cell_type": "markdown",
   "metadata": {},
   "source": [
    "----------------------------\n",
    "## Loading the datasets\n",
    "Now it is time to, through a function, open the csv files. Inside the archive we have different datasets divided by genre. Since our goal is to have a more complete dataset we will join this datasets. All the datasets were provided by Kaggle:\n",
    "- series_data - https://www.kaggle.com/datasets/harshitshankhdhar/tv-series-dataset (Retrieved at 20 november)\n",
    "- TV series - https://www.kaggle.com/datasets/muralidharbhusal/50000-imdb-tv-and-web-series (Retrieved at 20 november)\n",
    "- archive data - https://www.kaggle.com/datasets/suraj520/imdb-tv-series-data/data (Retrieved at 20 november)"
   ]
  },
  {
   "cell_type": "code",
   "execution_count": 2,
   "metadata": {},
   "outputs": [
    {
     "name": "stderr",
     "output_type": "stream",
     "text": [
      "C:\\Users\\xandg\\AppData\\Local\\Temp\\ipykernel_14168\\631337160.py:28: FutureWarning: The behavior of DataFrame concatenation with empty or all-NA entries is deprecated. In a future version, this will no longer exclude empty or all-NA columns when determining the result dtypes. To retain the old behavior, exclude the relevant entries before the concat operation.\n",
      "  archive_data = pd.concat(dfs, ignore_index=True)\n"
     ]
    }
   ],
   "source": [
    "# Path to the directory containing CSV files\n",
    "directory_path = 'Data\\\\Tv_show_files'\n",
    "\n",
    "try:\n",
    "    # Initialize an empty list to store the dataframes\n",
    "    dfs = []\n",
    "\n",
    "    # Read 'series_data.csv'\n",
    "    series_data = pd.read_csv(os.path.join(directory_path, 'series_data.csv'), encoding='utf-8')\n",
    "    \n",
    "    # Read 'TV Series.csv'\n",
    "    series = pd.read_csv(os.path.join(directory_path, 'TV Series.csv'), encoding='utf-8')\n",
    "    \n",
    "    # Iterate through CSV files in 'archive' directory\n",
    "    for file in os.listdir(os.path.join(directory_path, 'archive')):\n",
    "        if file.endswith('.csv'):\n",
    "            file_path = os.path.join(directory_path, 'archive', file)\n",
    "            # Read the CSV file into a dataframe\n",
    "            df = pd.read_csv(file_path, encoding='utf-8')\n",
    "            \n",
    "            # Add a new column with a unique value for each file\n",
    "            df['UniqueValue'] = os.path.splitext(file)[0]  # Extracts the file name without extension\n",
    "            \n",
    "            # Append the dataframe to the list\n",
    "            dfs.append(df)\n",
    "\n",
    "    # Concatenate all 'archive' dataframes into a single dataframe\n",
    "    archive_data = pd.concat(dfs, ignore_index=True)\n",
    "\n",
    "except FileNotFoundError:\n",
    "    print(\"File not found. Please check the file path.\")\n",
    "except Exception as e:\n",
    "    print(f\"An error occurred: {e}\")\n"
   ]
  },
  {
   "cell_type": "code",
   "execution_count": 3,
   "metadata": {},
   "outputs": [
    {
     "name": "stdout",
     "output_type": "stream",
     "text": [
      "Series Data:\n"
     ]
    },
    {
     "data": {
      "text/html": [
       "<div>\n",
       "<style scoped>\n",
       "    .dataframe tbody tr th:only-of-type {\n",
       "        vertical-align: middle;\n",
       "    }\n",
       "\n",
       "    .dataframe tbody tr th {\n",
       "        vertical-align: top;\n",
       "    }\n",
       "\n",
       "    .dataframe thead th {\n",
       "        text-align: right;\n",
       "    }\n",
       "</style>\n",
       "<table border=\"1\" class=\"dataframe\">\n",
       "  <thead>\n",
       "    <tr style=\"text-align: right;\">\n",
       "      <th></th>\n",
       "      <th>Poster_Link</th>\n",
       "      <th>Series_Title</th>\n",
       "      <th>Runtime_of_Series</th>\n",
       "      <th>Certificate</th>\n",
       "      <th>Runtime_of_Episodes</th>\n",
       "      <th>Genre</th>\n",
       "      <th>IMDB_Rating</th>\n",
       "      <th>Overview</th>\n",
       "      <th>Star1</th>\n",
       "      <th>Star2</th>\n",
       "      <th>Star3</th>\n",
       "      <th>Star4</th>\n",
       "      <th>No_of_Votes</th>\n",
       "    </tr>\n",
       "  </thead>\n",
       "  <tbody>\n",
       "    <tr>\n",
       "      <th>0</th>\n",
       "      <td>https://m.media-amazon.com/images/M/MV5BYTRiND...</td>\n",
       "      <td>Game of Thrones</td>\n",
       "      <td>(2011–2019)</td>\n",
       "      <td>A</td>\n",
       "      <td>57 min</td>\n",
       "      <td>Action, Adventure, Drama</td>\n",
       "      <td>9.3</td>\n",
       "      <td>Nine noble families fight for control over the...</td>\n",
       "      <td>Emilia Clarke</td>\n",
       "      <td>Peter Dinklage</td>\n",
       "      <td>Kit Harington</td>\n",
       "      <td>Lena Headey</td>\n",
       "      <td>1773458</td>\n",
       "    </tr>\n",
       "    <tr>\n",
       "      <th>1</th>\n",
       "      <td>https://m.media-amazon.com/images/M/MV5BMjhiMz...</td>\n",
       "      <td>Breaking Bad</td>\n",
       "      <td>(2008–2013)</td>\n",
       "      <td>18</td>\n",
       "      <td>49 min</td>\n",
       "      <td>Crime, Drama, Thriller</td>\n",
       "      <td>9.5</td>\n",
       "      <td>A high school chemistry teacher diagnosed with...</td>\n",
       "      <td>Bryan Cranston</td>\n",
       "      <td>Aaron Paul</td>\n",
       "      <td>Anna Gunn</td>\n",
       "      <td>Betsy Brandt</td>\n",
       "      <td>1468887</td>\n",
       "    </tr>\n",
       "    <tr>\n",
       "      <th>2</th>\n",
       "      <td>https://m.media-amazon.com/images/M/MV5BMTc5Zm...</td>\n",
       "      <td>The Walking Dead</td>\n",
       "      <td>(2010– )</td>\n",
       "      <td>18+</td>\n",
       "      <td>44 min</td>\n",
       "      <td>Drama, Horror, Thriller</td>\n",
       "      <td>8.2</td>\n",
       "      <td>Sheriff Deputy Rick Grimes wakes up from a com...</td>\n",
       "      <td>Andrew Lincoln</td>\n",
       "      <td>Norman Reedus</td>\n",
       "      <td>Melissa McBride</td>\n",
       "      <td>Danai Gurira</td>\n",
       "      <td>854698</td>\n",
       "    </tr>\n",
       "  </tbody>\n",
       "</table>\n",
       "</div>"
      ],
      "text/plain": [
       "                                         Poster_Link      Series_Title  \\\n",
       "0  https://m.media-amazon.com/images/M/MV5BYTRiND...   Game of Thrones   \n",
       "1  https://m.media-amazon.com/images/M/MV5BMjhiMz...      Breaking Bad   \n",
       "2  https://m.media-amazon.com/images/M/MV5BMTc5Zm...  The Walking Dead   \n",
       "\n",
       "  Runtime_of_Series Certificate Runtime_of_Episodes                     Genre  \\\n",
       "0       (2011–2019)           A              57 min  Action, Adventure, Drama   \n",
       "1       (2008–2013)          18              49 min    Crime, Drama, Thriller   \n",
       "2          (2010– )         18+              44 min   Drama, Horror, Thriller   \n",
       "\n",
       "   IMDB_Rating                                           Overview  \\\n",
       "0          9.3  Nine noble families fight for control over the...   \n",
       "1          9.5  A high school chemistry teacher diagnosed with...   \n",
       "2          8.2  Sheriff Deputy Rick Grimes wakes up from a com...   \n",
       "\n",
       "            Star1           Star2            Star3         Star4  No_of_Votes  \n",
       "0   Emilia Clarke  Peter Dinklage    Kit Harington   Lena Headey      1773458  \n",
       "1  Bryan Cranston      Aaron Paul        Anna Gunn  Betsy Brandt      1468887  \n",
       "2  Andrew Lincoln   Norman Reedus  Melissa McBride  Danai Gurira       854698  "
      ]
     },
     "execution_count": 3,
     "metadata": {},
     "output_type": "execute_result"
    }
   ],
   "source": [
    "print(\"Series Data:\")\n",
    "series_data.head(3)"
   ]
  },
  {
   "cell_type": "code",
   "execution_count": 4,
   "metadata": {},
   "outputs": [
    {
     "name": "stdout",
     "output_type": "stream",
     "text": [
      "\n",
      "Series:\n"
     ]
    },
    {
     "data": {
      "text/html": [
       "<div>\n",
       "<style scoped>\n",
       "    .dataframe tbody tr th:only-of-type {\n",
       "        vertical-align: middle;\n",
       "    }\n",
       "\n",
       "    .dataframe tbody tr th {\n",
       "        vertical-align: top;\n",
       "    }\n",
       "\n",
       "    .dataframe thead th {\n",
       "        text-align: right;\n",
       "    }\n",
       "</style>\n",
       "<table border=\"1\" class=\"dataframe\">\n",
       "  <thead>\n",
       "    <tr style=\"text-align: right;\">\n",
       "      <th></th>\n",
       "      <th>Series Title</th>\n",
       "      <th>Release Year</th>\n",
       "      <th>Runtime</th>\n",
       "      <th>Genre</th>\n",
       "      <th>Rating</th>\n",
       "      <th>Cast</th>\n",
       "      <th>Synopsis</th>\n",
       "    </tr>\n",
       "  </thead>\n",
       "  <tbody>\n",
       "    <tr>\n",
       "      <th>0</th>\n",
       "      <td>Wednesday</td>\n",
       "      <td>(2022– )</td>\n",
       "      <td>45 min</td>\n",
       "      <td>Comedy, Crime, Fantasy</td>\n",
       "      <td>8.2</td>\n",
       "      <td>Jenna Ortega, Hunter Doohan, Percy Hynes White...</td>\n",
       "      <td>Follows Wednesday Addams' years as a student, ...</td>\n",
       "    </tr>\n",
       "    <tr>\n",
       "      <th>1</th>\n",
       "      <td>Yellowstone</td>\n",
       "      <td>(2018– )</td>\n",
       "      <td>60 min</td>\n",
       "      <td>Drama, Western</td>\n",
       "      <td>8.7</td>\n",
       "      <td>Kevin Costner, Luke Grimes, Kelly Reilly, Wes ...</td>\n",
       "      <td>A ranching family in Montana faces off against...</td>\n",
       "    </tr>\n",
       "    <tr>\n",
       "      <th>2</th>\n",
       "      <td>The White Lotus</td>\n",
       "      <td>(2021–2023)</td>\n",
       "      <td>60 min</td>\n",
       "      <td>Comedy, Drama</td>\n",
       "      <td>7.9</td>\n",
       "      <td>Jennifer Coolidge, Jon Gries, F. Murray Abraha...</td>\n",
       "      <td>Set in a tropical resort, it follows the explo...</td>\n",
       "    </tr>\n",
       "  </tbody>\n",
       "</table>\n",
       "</div>"
      ],
      "text/plain": [
       "      Series Title Release Year Runtime                   Genre Rating  \\\n",
       "0        Wednesday     (2022– )  45 min  Comedy, Crime, Fantasy    8.2   \n",
       "1      Yellowstone     (2018– )  60 min          Drama, Western    8.7   \n",
       "2  The White Lotus  (2021–2023)  60 min           Comedy, Drama    7.9   \n",
       "\n",
       "                                                Cast  \\\n",
       "0  Jenna Ortega, Hunter Doohan, Percy Hynes White...   \n",
       "1  Kevin Costner, Luke Grimes, Kelly Reilly, Wes ...   \n",
       "2  Jennifer Coolidge, Jon Gries, F. Murray Abraha...   \n",
       "\n",
       "                                            Synopsis  \n",
       "0  Follows Wednesday Addams' years as a student, ...  \n",
       "1  A ranching family in Montana faces off against...  \n",
       "2  Set in a tropical resort, it follows the explo...  "
      ]
     },
     "execution_count": 4,
     "metadata": {},
     "output_type": "execute_result"
    }
   ],
   "source": [
    "print(\"\\nSeries:\")\n",
    "series.head(3)"
   ]
  },
  {
   "cell_type": "code",
   "execution_count": 5,
   "metadata": {},
   "outputs": [
    {
     "name": "stdout",
     "output_type": "stream",
     "text": [
      "\n",
      "Archive Data:\n"
     ]
    },
    {
     "data": {
      "text/html": [
       "<div>\n",
       "<style scoped>\n",
       "    .dataframe tbody tr th:only-of-type {\n",
       "        vertical-align: middle;\n",
       "    }\n",
       "\n",
       "    .dataframe tbody tr th {\n",
       "        vertical-align: top;\n",
       "    }\n",
       "\n",
       "    .dataframe thead th {\n",
       "        text-align: right;\n",
       "    }\n",
       "</style>\n",
       "<table border=\"1\" class=\"dataframe\">\n",
       "  <thead>\n",
       "    <tr style=\"text-align: right;\">\n",
       "      <th></th>\n",
       "      <th>Title</th>\n",
       "      <th>IMDb ID</th>\n",
       "      <th>Release Year</th>\n",
       "      <th>Genre</th>\n",
       "      <th>Cast</th>\n",
       "      <th>Synopsis</th>\n",
       "      <th>Rating</th>\n",
       "      <th>Runtime</th>\n",
       "      <th>Certificate</th>\n",
       "      <th>Number of Votes</th>\n",
       "      <th>Gross Revenue</th>\n",
       "      <th>UniqueValue</th>\n",
       "    </tr>\n",
       "  </thead>\n",
       "  <tbody>\n",
       "    <tr>\n",
       "      <th>0</th>\n",
       "      <td>Spider-Man: Across the Spider-Verse</td>\n",
       "      <td>tt9362722</td>\n",
       "      <td>2023</td>\n",
       "      <td>Animation, Action, Adventure</td>\n",
       "      <td>Directors:, Joaquim Dos Santos, , Kemp Powers,...</td>\n",
       "      <td>Miles Morales catapults across the Multiverse,...</td>\n",
       "      <td>9.1</td>\n",
       "      <td>140 min</td>\n",
       "      <td>PG</td>\n",
       "      <td>71960</td>\n",
       "      <td>NaN</td>\n",
       "      <td>action_series</td>\n",
       "    </tr>\n",
       "    <tr>\n",
       "      <th>1</th>\n",
       "      <td>FUBAR</td>\n",
       "      <td>tt13064902</td>\n",
       "      <td>2023–</td>\n",
       "      <td>Action, Adventure, Thriller</td>\n",
       "      <td>Stars:, Arnold Schwarzenegger, , Monica Barbar...</td>\n",
       "      <td>A C.I.A. operative on the edge of retirement d...</td>\n",
       "      <td>6.5</td>\n",
       "      <td>NaN</td>\n",
       "      <td>TV-MA</td>\n",
       "      <td>15422</td>\n",
       "      <td>NaN</td>\n",
       "      <td>action_series</td>\n",
       "    </tr>\n",
       "    <tr>\n",
       "      <th>2</th>\n",
       "      <td>Barry</td>\n",
       "      <td>tt5348176</td>\n",
       "      <td>2018–2023</td>\n",
       "      <td>Action, Comedy, Crime</td>\n",
       "      <td>Stars:, Bill Hader, , Stephen Root, , Sarah Go...</td>\n",
       "      <td>A hit man from the Midwest moves to Los Angele...</td>\n",
       "      <td>8.4</td>\n",
       "      <td>30 min</td>\n",
       "      <td>TV-MA</td>\n",
       "      <td>101883</td>\n",
       "      <td>NaN</td>\n",
       "      <td>action_series</td>\n",
       "    </tr>\n",
       "  </tbody>\n",
       "</table>\n",
       "</div>"
      ],
      "text/plain": [
       "                                 Title     IMDb ID Release Year  \\\n",
       "0  Spider-Man: Across the Spider-Verse   tt9362722         2023   \n",
       "1                                FUBAR  tt13064902       2023–    \n",
       "2                                Barry   tt5348176    2018–2023   \n",
       "\n",
       "                          Genre  \\\n",
       "0  Animation, Action, Adventure   \n",
       "1   Action, Adventure, Thriller   \n",
       "2         Action, Comedy, Crime   \n",
       "\n",
       "                                                Cast  \\\n",
       "0  Directors:, Joaquim Dos Santos, , Kemp Powers,...   \n",
       "1  Stars:, Arnold Schwarzenegger, , Monica Barbar...   \n",
       "2  Stars:, Bill Hader, , Stephen Root, , Sarah Go...   \n",
       "\n",
       "                                            Synopsis  Rating  Runtime  \\\n",
       "0  Miles Morales catapults across the Multiverse,...     9.1  140 min   \n",
       "1  A C.I.A. operative on the edge of retirement d...     6.5      NaN   \n",
       "2  A hit man from the Midwest moves to Los Angele...     8.4   30 min   \n",
       "\n",
       "  Certificate Number of Votes Gross Revenue    UniqueValue  \n",
       "0          PG           71960           NaN  action_series  \n",
       "1       TV-MA           15422           NaN  action_series  \n",
       "2       TV-MA          101883           NaN  action_series  "
      ]
     },
     "execution_count": 5,
     "metadata": {},
     "output_type": "execute_result"
    }
   ],
   "source": [
    "print(\"\\nArchive Data:\")\n",
    "archive_data.head(3)"
   ]
  },
  {
   "cell_type": "markdown",
   "metadata": {},
   "source": [
    "There are some features that have different names but they are similar, for that, after merging all the datasets we need to:\n",
    "- Remove NaN values\n",
    "- Eliminate duplicates\n",
    "- Change name variables"
   ]
  },
  {
   "cell_type": "markdown",
   "metadata": {},
   "source": [
    "------------------------------------------------------------------------------------------------------"
   ]
  },
  {
   "cell_type": "markdown",
   "metadata": {},
   "source": [
    "> ## Series Data Set - preprocessing"
   ]
  },
  {
   "cell_type": "code",
   "execution_count": 6,
   "metadata": {},
   "outputs": [
    {
     "data": {
      "text/html": [
       "<div>\n",
       "<style scoped>\n",
       "    .dataframe tbody tr th:only-of-type {\n",
       "        vertical-align: middle;\n",
       "    }\n",
       "\n",
       "    .dataframe tbody tr th {\n",
       "        vertical-align: top;\n",
       "    }\n",
       "\n",
       "    .dataframe thead th {\n",
       "        text-align: right;\n",
       "    }\n",
       "</style>\n",
       "<table border=\"1\" class=\"dataframe\">\n",
       "  <thead>\n",
       "    <tr style=\"text-align: right;\">\n",
       "      <th></th>\n",
       "      <th>Series Title</th>\n",
       "      <th>Release Year</th>\n",
       "      <th>Runtime</th>\n",
       "      <th>Genre</th>\n",
       "      <th>Rating</th>\n",
       "      <th>Cast</th>\n",
       "      <th>Synopsis</th>\n",
       "    </tr>\n",
       "  </thead>\n",
       "  <tbody>\n",
       "    <tr>\n",
       "      <th>0</th>\n",
       "      <td>Wednesday</td>\n",
       "      <td>(2022– )</td>\n",
       "      <td>45 min</td>\n",
       "      <td>Comedy, Crime, Fantasy</td>\n",
       "      <td>8.2</td>\n",
       "      <td>Jenna Ortega, Hunter Doohan, Percy Hynes White...</td>\n",
       "      <td>Follows Wednesday Addams' years as a student, ...</td>\n",
       "    </tr>\n",
       "    <tr>\n",
       "      <th>1</th>\n",
       "      <td>Yellowstone</td>\n",
       "      <td>(2018– )</td>\n",
       "      <td>60 min</td>\n",
       "      <td>Drama, Western</td>\n",
       "      <td>8.7</td>\n",
       "      <td>Kevin Costner, Luke Grimes, Kelly Reilly, Wes ...</td>\n",
       "      <td>A ranching family in Montana faces off against...</td>\n",
       "    </tr>\n",
       "    <tr>\n",
       "      <th>2</th>\n",
       "      <td>The White Lotus</td>\n",
       "      <td>(2021–2023)</td>\n",
       "      <td>60 min</td>\n",
       "      <td>Comedy, Drama</td>\n",
       "      <td>7.9</td>\n",
       "      <td>Jennifer Coolidge, Jon Gries, F. Murray Abraha...</td>\n",
       "      <td>Set in a tropical resort, it follows the explo...</td>\n",
       "    </tr>\n",
       "  </tbody>\n",
       "</table>\n",
       "</div>"
      ],
      "text/plain": [
       "      Series Title Release Year Runtime                   Genre Rating  \\\n",
       "0        Wednesday     (2022– )  45 min  Comedy, Crime, Fantasy    8.2   \n",
       "1      Yellowstone     (2018– )  60 min          Drama, Western    8.7   \n",
       "2  The White Lotus  (2021–2023)  60 min           Comedy, Drama    7.9   \n",
       "\n",
       "                                                Cast  \\\n",
       "0  Jenna Ortega, Hunter Doohan, Percy Hynes White...   \n",
       "1  Kevin Costner, Luke Grimes, Kelly Reilly, Wes ...   \n",
       "2  Jennifer Coolidge, Jon Gries, F. Murray Abraha...   \n",
       "\n",
       "                                            Synopsis  \n",
       "0  Follows Wednesday Addams' years as a student, ...  \n",
       "1  A ranching family in Montana faces off against...  \n",
       "2  Set in a tropical resort, it follows the explo...  "
      ]
     },
     "execution_count": 6,
     "metadata": {},
     "output_type": "execute_result"
    }
   ],
   "source": [
    "series.head(3)"
   ]
  },
  {
   "cell_type": "code",
   "execution_count": 7,
   "metadata": {},
   "outputs": [
    {
     "name": "stdout",
     "output_type": "stream",
     "text": [
      "<class 'pandas.core.frame.DataFrame'>\n",
      "RangeIndex: 50000 entries, 0 to 49999\n",
      "Data columns (total 7 columns):\n",
      " #   Column        Non-Null Count  Dtype \n",
      "---  ------        --------------  ----- \n",
      " 0   Series Title  50000 non-null  object\n",
      " 1   Release Year  49800 non-null  object\n",
      " 2   Runtime       50000 non-null  object\n",
      " 3   Genre         50000 non-null  object\n",
      " 4   Rating        50000 non-null  object\n",
      " 5   Cast          49909 non-null  object\n",
      " 6   Synopsis      50000 non-null  object\n",
      "dtypes: object(7)\n",
      "memory usage: 2.7+ MB\n"
     ]
    }
   ],
   "source": [
    "series.info()"
   ]
  },
  {
   "cell_type": "markdown",
   "metadata": {},
   "source": [
    "We have some missing values. Since we have a lot of data we will delete all those rows that have null values."
   ]
  },
  {
   "cell_type": "code",
   "execution_count": 8,
   "metadata": {},
   "outputs": [],
   "source": [
    "series.dropna(inplace=True)\n"
   ]
  },
  {
   "cell_type": "code",
   "execution_count": 9,
   "metadata": {},
   "outputs": [
    {
     "name": "stdout",
     "output_type": "stream",
     "text": [
      "<class 'pandas.core.frame.DataFrame'>\n",
      "Index: 49744 entries, 0 to 49999\n",
      "Data columns (total 7 columns):\n",
      " #   Column        Non-Null Count  Dtype \n",
      "---  ------        --------------  ----- \n",
      " 0   Series Title  49744 non-null  object\n",
      " 1   Release Year  49744 non-null  object\n",
      " 2   Runtime       49744 non-null  object\n",
      " 3   Genre         49744 non-null  object\n",
      " 4   Rating        49744 non-null  object\n",
      " 5   Cast          49744 non-null  object\n",
      " 6   Synopsis      49744 non-null  object\n",
      "dtypes: object(7)\n",
      "memory usage: 3.0+ MB\n"
     ]
    }
   ],
   "source": [
    "series.info()"
   ]
  },
  {
   "cell_type": "code",
   "execution_count": 10,
   "metadata": {},
   "outputs": [
    {
     "data": {
      "text/plain": [
       "count          49744\n",
       "unique          9406\n",
       "top       The Office\n",
       "freq             804\n",
       "Name: Series Title, dtype: object"
      ]
     },
     "execution_count": 10,
     "metadata": {},
     "output_type": "execute_result"
    }
   ],
   "source": [
    "series['Series Title'].describe()"
   ]
  },
  {
   "cell_type": "markdown",
   "metadata": {},
   "source": [
    "Also it is important that the same features has same name. So we will rename the following features."
   ]
  },
  {
   "cell_type": "code",
   "execution_count": 11,
   "metadata": {},
   "outputs": [],
   "source": [
    "series.rename(columns={'Series Title': 'Series_title', 'Release Year': 'Release_year'}, inplace=True)"
   ]
  },
  {
   "cell_type": "markdown",
   "metadata": {},
   "source": [
    "--------------------------------------------------------------------------------------------------------------------------------"
   ]
  },
  {
   "cell_type": "markdown",
   "metadata": {},
   "source": [
    "> ## Series_data Data Set - preprocessing"
   ]
  },
  {
   "cell_type": "code",
   "execution_count": 12,
   "metadata": {},
   "outputs": [
    {
     "data": {
      "text/html": [
       "<div>\n",
       "<style scoped>\n",
       "    .dataframe tbody tr th:only-of-type {\n",
       "        vertical-align: middle;\n",
       "    }\n",
       "\n",
       "    .dataframe tbody tr th {\n",
       "        vertical-align: top;\n",
       "    }\n",
       "\n",
       "    .dataframe thead th {\n",
       "        text-align: right;\n",
       "    }\n",
       "</style>\n",
       "<table border=\"1\" class=\"dataframe\">\n",
       "  <thead>\n",
       "    <tr style=\"text-align: right;\">\n",
       "      <th></th>\n",
       "      <th>Poster_Link</th>\n",
       "      <th>Series_Title</th>\n",
       "      <th>Runtime_of_Series</th>\n",
       "      <th>Certificate</th>\n",
       "      <th>Runtime_of_Episodes</th>\n",
       "      <th>Genre</th>\n",
       "      <th>IMDB_Rating</th>\n",
       "      <th>Overview</th>\n",
       "      <th>Star1</th>\n",
       "      <th>Star2</th>\n",
       "      <th>Star3</th>\n",
       "      <th>Star4</th>\n",
       "      <th>No_of_Votes</th>\n",
       "    </tr>\n",
       "  </thead>\n",
       "  <tbody>\n",
       "    <tr>\n",
       "      <th>0</th>\n",
       "      <td>https://m.media-amazon.com/images/M/MV5BYTRiND...</td>\n",
       "      <td>Game of Thrones</td>\n",
       "      <td>(2011–2019)</td>\n",
       "      <td>A</td>\n",
       "      <td>57 min</td>\n",
       "      <td>Action, Adventure, Drama</td>\n",
       "      <td>9.3</td>\n",
       "      <td>Nine noble families fight for control over the...</td>\n",
       "      <td>Emilia Clarke</td>\n",
       "      <td>Peter Dinklage</td>\n",
       "      <td>Kit Harington</td>\n",
       "      <td>Lena Headey</td>\n",
       "      <td>1773458</td>\n",
       "    </tr>\n",
       "    <tr>\n",
       "      <th>1</th>\n",
       "      <td>https://m.media-amazon.com/images/M/MV5BMjhiMz...</td>\n",
       "      <td>Breaking Bad</td>\n",
       "      <td>(2008–2013)</td>\n",
       "      <td>18</td>\n",
       "      <td>49 min</td>\n",
       "      <td>Crime, Drama, Thriller</td>\n",
       "      <td>9.5</td>\n",
       "      <td>A high school chemistry teacher diagnosed with...</td>\n",
       "      <td>Bryan Cranston</td>\n",
       "      <td>Aaron Paul</td>\n",
       "      <td>Anna Gunn</td>\n",
       "      <td>Betsy Brandt</td>\n",
       "      <td>1468887</td>\n",
       "    </tr>\n",
       "    <tr>\n",
       "      <th>2</th>\n",
       "      <td>https://m.media-amazon.com/images/M/MV5BMTc5Zm...</td>\n",
       "      <td>The Walking Dead</td>\n",
       "      <td>(2010– )</td>\n",
       "      <td>18+</td>\n",
       "      <td>44 min</td>\n",
       "      <td>Drama, Horror, Thriller</td>\n",
       "      <td>8.2</td>\n",
       "      <td>Sheriff Deputy Rick Grimes wakes up from a com...</td>\n",
       "      <td>Andrew Lincoln</td>\n",
       "      <td>Norman Reedus</td>\n",
       "      <td>Melissa McBride</td>\n",
       "      <td>Danai Gurira</td>\n",
       "      <td>854698</td>\n",
       "    </tr>\n",
       "  </tbody>\n",
       "</table>\n",
       "</div>"
      ],
      "text/plain": [
       "                                         Poster_Link      Series_Title  \\\n",
       "0  https://m.media-amazon.com/images/M/MV5BYTRiND...   Game of Thrones   \n",
       "1  https://m.media-amazon.com/images/M/MV5BMjhiMz...      Breaking Bad   \n",
       "2  https://m.media-amazon.com/images/M/MV5BMTc5Zm...  The Walking Dead   \n",
       "\n",
       "  Runtime_of_Series Certificate Runtime_of_Episodes                     Genre  \\\n",
       "0       (2011–2019)           A              57 min  Action, Adventure, Drama   \n",
       "1       (2008–2013)          18              49 min    Crime, Drama, Thriller   \n",
       "2          (2010– )         18+              44 min   Drama, Horror, Thriller   \n",
       "\n",
       "   IMDB_Rating                                           Overview  \\\n",
       "0          9.3  Nine noble families fight for control over the...   \n",
       "1          9.5  A high school chemistry teacher diagnosed with...   \n",
       "2          8.2  Sheriff Deputy Rick Grimes wakes up from a com...   \n",
       "\n",
       "            Star1           Star2            Star3         Star4  No_of_Votes  \n",
       "0   Emilia Clarke  Peter Dinklage    Kit Harington   Lena Headey      1773458  \n",
       "1  Bryan Cranston      Aaron Paul        Anna Gunn  Betsy Brandt      1468887  \n",
       "2  Andrew Lincoln   Norman Reedus  Melissa McBride  Danai Gurira       854698  "
      ]
     },
     "execution_count": 12,
     "metadata": {},
     "output_type": "execute_result"
    }
   ],
   "source": [
    "series_data.head(3)"
   ]
  },
  {
   "cell_type": "code",
   "execution_count": 13,
   "metadata": {},
   "outputs": [
    {
     "name": "stdout",
     "output_type": "stream",
     "text": [
      "<class 'pandas.core.frame.DataFrame'>\n",
      "RangeIndex: 2000 entries, 0 to 1999\n",
      "Data columns (total 13 columns):\n",
      " #   Column               Non-Null Count  Dtype  \n",
      "---  ------               --------------  -----  \n",
      " 0   Poster_Link          2000 non-null   object \n",
      " 1   Series_Title         2000 non-null   object \n",
      " 2   Runtime_of_Series    2000 non-null   object \n",
      " 3   Certificate          703 non-null    object \n",
      " 4   Runtime_of_Episodes  1957 non-null   object \n",
      " 5   Genre                2000 non-null   object \n",
      " 6   IMDB_Rating          2000 non-null   float64\n",
      " 7   Overview             2000 non-null   object \n",
      " 8   Star1                2000 non-null   object \n",
      " 9   Star2                2000 non-null   object \n",
      " 10  Star3                1999 non-null   object \n",
      " 11  Star4                1995 non-null   object \n",
      " 12  No_of_Votes          2000 non-null   int64  \n",
      "dtypes: float64(1), int64(1), object(11)\n",
      "memory usage: 203.3+ KB\n"
     ]
    }
   ],
   "source": [
    "series_data.info()"
   ]
  },
  {
   "cell_type": "markdown",
   "metadata": {},
   "source": [
    "As we can see by using head() and info() we can eliminate Certificate and Poster_link. <br>\n",
    "We can also create a feature, already in the previous dataset named \"Cast\" by merging Star1, Star2, Star3 and Star4. <br>\n",
    "Also, we can change the name of Series_Title to \"Series_title\", Runtime_of_series to \"Release_year\", and Overview to \"Synopsis\" <br>\n",
    "And finally, drop missing values."
   ]
  },
  {
   "cell_type": "code",
   "execution_count": 14,
   "metadata": {},
   "outputs": [],
   "source": [
    "series_data.drop(columns=['Certificate', 'Poster_Link'], inplace=True, errors='ignore')"
   ]
  },
  {
   "cell_type": "code",
   "execution_count": 15,
   "metadata": {},
   "outputs": [],
   "source": [
    "series_data['Cast'] = series_data[['Star1', 'Star2', 'Star3', 'Star4']].fillna('').agg(', '.join, axis=1)\n",
    "# Drop individual star columns\n",
    "series_data.drop(['Star1', 'Star2', 'Star3', 'Star4'], axis=1, inplace=True)"
   ]
  },
  {
   "cell_type": "code",
   "execution_count": 16,
   "metadata": {},
   "outputs": [],
   "source": [
    "# Rename columns\n",
    "series_data.rename(columns={'Series_Title': 'Series_title', 'Runtime_of_Series': 'Release_year', 'Overview': 'Synopsis', 'Runtime_of_Episodes': \"Runtime\", 'No_of_Votes':'No_of_Votes_IMDB'}, inplace=True)"
   ]
  },
  {
   "cell_type": "code",
   "execution_count": 17,
   "metadata": {},
   "outputs": [],
   "source": [
    "series_data.dropna(inplace=True)"
   ]
  },
  {
   "cell_type": "code",
   "execution_count": 18,
   "metadata": {},
   "outputs": [
    {
     "data": {
      "text/html": [
       "<div>\n",
       "<style scoped>\n",
       "    .dataframe tbody tr th:only-of-type {\n",
       "        vertical-align: middle;\n",
       "    }\n",
       "\n",
       "    .dataframe tbody tr th {\n",
       "        vertical-align: top;\n",
       "    }\n",
       "\n",
       "    .dataframe thead th {\n",
       "        text-align: right;\n",
       "    }\n",
       "</style>\n",
       "<table border=\"1\" class=\"dataframe\">\n",
       "  <thead>\n",
       "    <tr style=\"text-align: right;\">\n",
       "      <th></th>\n",
       "      <th>Series_title</th>\n",
       "      <th>Release_year</th>\n",
       "      <th>Runtime</th>\n",
       "      <th>Genre</th>\n",
       "      <th>IMDB_Rating</th>\n",
       "      <th>Synopsis</th>\n",
       "      <th>No_of_Votes_IMDB</th>\n",
       "      <th>Cast</th>\n",
       "    </tr>\n",
       "  </thead>\n",
       "  <tbody>\n",
       "    <tr>\n",
       "      <th>0</th>\n",
       "      <td>Game of Thrones</td>\n",
       "      <td>(2011–2019)</td>\n",
       "      <td>57 min</td>\n",
       "      <td>Action, Adventure, Drama</td>\n",
       "      <td>9.3</td>\n",
       "      <td>Nine noble families fight for control over the...</td>\n",
       "      <td>1773458</td>\n",
       "      <td>Emilia Clarke, Peter Dinklage, Kit Harington, ...</td>\n",
       "    </tr>\n",
       "    <tr>\n",
       "      <th>1</th>\n",
       "      <td>Breaking Bad</td>\n",
       "      <td>(2008–2013)</td>\n",
       "      <td>49 min</td>\n",
       "      <td>Crime, Drama, Thriller</td>\n",
       "      <td>9.5</td>\n",
       "      <td>A high school chemistry teacher diagnosed with...</td>\n",
       "      <td>1468887</td>\n",
       "      <td>Bryan Cranston, Aaron Paul, Anna Gunn, Betsy B...</td>\n",
       "    </tr>\n",
       "    <tr>\n",
       "      <th>2</th>\n",
       "      <td>The Walking Dead</td>\n",
       "      <td>(2010– )</td>\n",
       "      <td>44 min</td>\n",
       "      <td>Drama, Horror, Thriller</td>\n",
       "      <td>8.2</td>\n",
       "      <td>Sheriff Deputy Rick Grimes wakes up from a com...</td>\n",
       "      <td>854698</td>\n",
       "      <td>Andrew Lincoln, Norman Reedus, Melissa McBride...</td>\n",
       "    </tr>\n",
       "  </tbody>\n",
       "</table>\n",
       "</div>"
      ],
      "text/plain": [
       "       Series_title Release_year Runtime                     Genre  \\\n",
       "0   Game of Thrones  (2011–2019)  57 min  Action, Adventure, Drama   \n",
       "1      Breaking Bad  (2008–2013)  49 min    Crime, Drama, Thriller   \n",
       "2  The Walking Dead     (2010– )  44 min   Drama, Horror, Thriller   \n",
       "\n",
       "   IMDB_Rating                                           Synopsis  \\\n",
       "0          9.3  Nine noble families fight for control over the...   \n",
       "1          9.5  A high school chemistry teacher diagnosed with...   \n",
       "2          8.2  Sheriff Deputy Rick Grimes wakes up from a com...   \n",
       "\n",
       "   No_of_Votes_IMDB                                               Cast  \n",
       "0           1773458  Emilia Clarke, Peter Dinklage, Kit Harington, ...  \n",
       "1           1468887  Bryan Cranston, Aaron Paul, Anna Gunn, Betsy B...  \n",
       "2            854698  Andrew Lincoln, Norman Reedus, Melissa McBride...  "
      ]
     },
     "execution_count": 18,
     "metadata": {},
     "output_type": "execute_result"
    }
   ],
   "source": [
    "series_data.head(3)"
   ]
  },
  {
   "cell_type": "markdown",
   "metadata": {},
   "source": [
    "------------------------------------------------------------------------------------------"
   ]
  },
  {
   "cell_type": "markdown",
   "metadata": {},
   "source": [
    "> ## Archice_data Data Set - preprocessing"
   ]
  },
  {
   "cell_type": "code",
   "execution_count": 19,
   "metadata": {},
   "outputs": [
    {
     "data": {
      "text/html": [
       "<div>\n",
       "<style scoped>\n",
       "    .dataframe tbody tr th:only-of-type {\n",
       "        vertical-align: middle;\n",
       "    }\n",
       "\n",
       "    .dataframe tbody tr th {\n",
       "        vertical-align: top;\n",
       "    }\n",
       "\n",
       "    .dataframe thead th {\n",
       "        text-align: right;\n",
       "    }\n",
       "</style>\n",
       "<table border=\"1\" class=\"dataframe\">\n",
       "  <thead>\n",
       "    <tr style=\"text-align: right;\">\n",
       "      <th></th>\n",
       "      <th>Title</th>\n",
       "      <th>IMDb ID</th>\n",
       "      <th>Release Year</th>\n",
       "      <th>Genre</th>\n",
       "      <th>Cast</th>\n",
       "      <th>Synopsis</th>\n",
       "      <th>Rating</th>\n",
       "      <th>Runtime</th>\n",
       "      <th>Certificate</th>\n",
       "      <th>Number of Votes</th>\n",
       "      <th>Gross Revenue</th>\n",
       "      <th>UniqueValue</th>\n",
       "    </tr>\n",
       "  </thead>\n",
       "  <tbody>\n",
       "    <tr>\n",
       "      <th>0</th>\n",
       "      <td>Spider-Man: Across the Spider-Verse</td>\n",
       "      <td>tt9362722</td>\n",
       "      <td>2023</td>\n",
       "      <td>Animation, Action, Adventure</td>\n",
       "      <td>Directors:, Joaquim Dos Santos, , Kemp Powers,...</td>\n",
       "      <td>Miles Morales catapults across the Multiverse,...</td>\n",
       "      <td>9.1</td>\n",
       "      <td>140 min</td>\n",
       "      <td>PG</td>\n",
       "      <td>71960</td>\n",
       "      <td>NaN</td>\n",
       "      <td>action_series</td>\n",
       "    </tr>\n",
       "    <tr>\n",
       "      <th>1</th>\n",
       "      <td>FUBAR</td>\n",
       "      <td>tt13064902</td>\n",
       "      <td>2023–</td>\n",
       "      <td>Action, Adventure, Thriller</td>\n",
       "      <td>Stars:, Arnold Schwarzenegger, , Monica Barbar...</td>\n",
       "      <td>A C.I.A. operative on the edge of retirement d...</td>\n",
       "      <td>6.5</td>\n",
       "      <td>NaN</td>\n",
       "      <td>TV-MA</td>\n",
       "      <td>15422</td>\n",
       "      <td>NaN</td>\n",
       "      <td>action_series</td>\n",
       "    </tr>\n",
       "    <tr>\n",
       "      <th>2</th>\n",
       "      <td>Barry</td>\n",
       "      <td>tt5348176</td>\n",
       "      <td>2018–2023</td>\n",
       "      <td>Action, Comedy, Crime</td>\n",
       "      <td>Stars:, Bill Hader, , Stephen Root, , Sarah Go...</td>\n",
       "      <td>A hit man from the Midwest moves to Los Angele...</td>\n",
       "      <td>8.4</td>\n",
       "      <td>30 min</td>\n",
       "      <td>TV-MA</td>\n",
       "      <td>101883</td>\n",
       "      <td>NaN</td>\n",
       "      <td>action_series</td>\n",
       "    </tr>\n",
       "  </tbody>\n",
       "</table>\n",
       "</div>"
      ],
      "text/plain": [
       "                                 Title     IMDb ID Release Year  \\\n",
       "0  Spider-Man: Across the Spider-Verse   tt9362722         2023   \n",
       "1                                FUBAR  tt13064902       2023–    \n",
       "2                                Barry   tt5348176    2018–2023   \n",
       "\n",
       "                          Genre  \\\n",
       "0  Animation, Action, Adventure   \n",
       "1   Action, Adventure, Thriller   \n",
       "2         Action, Comedy, Crime   \n",
       "\n",
       "                                                Cast  \\\n",
       "0  Directors:, Joaquim Dos Santos, , Kemp Powers,...   \n",
       "1  Stars:, Arnold Schwarzenegger, , Monica Barbar...   \n",
       "2  Stars:, Bill Hader, , Stephen Root, , Sarah Go...   \n",
       "\n",
       "                                            Synopsis  Rating  Runtime  \\\n",
       "0  Miles Morales catapults across the Multiverse,...     9.1  140 min   \n",
       "1  A C.I.A. operative on the edge of retirement d...     6.5      NaN   \n",
       "2  A hit man from the Midwest moves to Los Angele...     8.4   30 min   \n",
       "\n",
       "  Certificate Number of Votes Gross Revenue    UniqueValue  \n",
       "0          PG           71960           NaN  action_series  \n",
       "1       TV-MA           15422           NaN  action_series  \n",
       "2       TV-MA          101883           NaN  action_series  "
      ]
     },
     "execution_count": 19,
     "metadata": {},
     "output_type": "execute_result"
    }
   ],
   "source": [
    "archive_data.head(3)"
   ]
  },
  {
   "cell_type": "markdown",
   "metadata": {},
   "source": [
    "As we can see inside Cast we have directors and stars. For this we will create a separate feature for Directors and another for Stars(that will be the actual Cast column)"
   ]
  },
  {
   "cell_type": "code",
   "execution_count": 20,
   "metadata": {},
   "outputs": [
    {
     "data": {
      "text/plain": [
       "0         Directors:, Joaquim Dos Santos, , Kemp Powers,...\n",
       "1         Stars:, Arnold Schwarzenegger, , Monica Barbar...\n",
       "2         Stars:, Bill Hader, , Stephen Root, , Sarah Go...\n",
       "3         Director:, Chad Stahelski, | ,     Stars:, Kea...\n",
       "4         Director:, Louis Leterrier, | ,     Stars:, Vi...\n",
       "                                ...                        \n",
       "236823    Director:, Daniel Goldhaber, | ,     Stars:, A...\n",
       "236824    Stars:, Anson Mount, , Colm Meaney, , Robin Mc...\n",
       "236825    Director:, John Sturges, | ,     Stars:, Yul B...\n",
       "236826    Stars:, Frank McGrath, , Terry Wilson, , Rober...\n",
       "236827    Director:, Robert Rodriguez, | ,     Stars:, A...\n",
       "Name: Cast, Length: 236828, dtype: object"
      ]
     },
     "execution_count": 20,
     "metadata": {},
     "output_type": "execute_result"
    }
   ],
   "source": [
    "archive_data[\"Cast\"]"
   ]
  },
  {
   "cell_type": "code",
   "execution_count": 21,
   "metadata": {},
   "outputs": [],
   "source": [
    "# Extracting 'Directors' and 'Stars' information separately\n",
    "archive_data['Directors'] = archive_data['Cast'].str.extract(r'Director[s]*:([^|]*)', expand=False).str.strip()\n",
    "archive_data['Stars'] = archive_data['Cast'].str.extract(r'Stars:([^|]*)', expand=False).str.strip()\n",
    "\n",
    "# Drop the original 'Cast' column if needed\n",
    "archive_data.drop(columns=['Cast'], inplace=True)\n"
   ]
  },
  {
   "cell_type": "code",
   "execution_count": 22,
   "metadata": {},
   "outputs": [
    {
     "data": {
      "text/html": [
       "<div>\n",
       "<style scoped>\n",
       "    .dataframe tbody tr th:only-of-type {\n",
       "        vertical-align: middle;\n",
       "    }\n",
       "\n",
       "    .dataframe tbody tr th {\n",
       "        vertical-align: top;\n",
       "    }\n",
       "\n",
       "    .dataframe thead th {\n",
       "        text-align: right;\n",
       "    }\n",
       "</style>\n",
       "<table border=\"1\" class=\"dataframe\">\n",
       "  <thead>\n",
       "    <tr style=\"text-align: right;\">\n",
       "      <th></th>\n",
       "      <th>Title</th>\n",
       "      <th>IMDb ID</th>\n",
       "      <th>Release Year</th>\n",
       "      <th>Genre</th>\n",
       "      <th>Synopsis</th>\n",
       "      <th>Rating</th>\n",
       "      <th>Runtime</th>\n",
       "      <th>Certificate</th>\n",
       "      <th>Number of Votes</th>\n",
       "      <th>Gross Revenue</th>\n",
       "      <th>UniqueValue</th>\n",
       "      <th>Directors</th>\n",
       "      <th>Stars</th>\n",
       "    </tr>\n",
       "  </thead>\n",
       "  <tbody>\n",
       "    <tr>\n",
       "      <th>0</th>\n",
       "      <td>Spider-Man: Across the Spider-Verse</td>\n",
       "      <td>tt9362722</td>\n",
       "      <td>2023</td>\n",
       "      <td>Animation, Action, Adventure</td>\n",
       "      <td>Miles Morales catapults across the Multiverse,...</td>\n",
       "      <td>9.1</td>\n",
       "      <td>140 min</td>\n",
       "      <td>PG</td>\n",
       "      <td>71960</td>\n",
       "      <td>NaN</td>\n",
       "      <td>action_series</td>\n",
       "      <td>, Joaquim Dos Santos, , Kemp Powers, , Justin ...</td>\n",
       "      <td>, Shameik Moore, , Hailee Steinfeld, , Brian T...</td>\n",
       "    </tr>\n",
       "    <tr>\n",
       "      <th>1</th>\n",
       "      <td>FUBAR</td>\n",
       "      <td>tt13064902</td>\n",
       "      <td>2023–</td>\n",
       "      <td>Action, Adventure, Thriller</td>\n",
       "      <td>A C.I.A. operative on the edge of retirement d...</td>\n",
       "      <td>6.5</td>\n",
       "      <td>NaN</td>\n",
       "      <td>TV-MA</td>\n",
       "      <td>15422</td>\n",
       "      <td>NaN</td>\n",
       "      <td>action_series</td>\n",
       "      <td>NaN</td>\n",
       "      <td>, Arnold Schwarzenegger, , Monica Barbaro, , M...</td>\n",
       "    </tr>\n",
       "    <tr>\n",
       "      <th>2</th>\n",
       "      <td>Barry</td>\n",
       "      <td>tt5348176</td>\n",
       "      <td>2018–2023</td>\n",
       "      <td>Action, Comedy, Crime</td>\n",
       "      <td>A hit man from the Midwest moves to Los Angele...</td>\n",
       "      <td>8.4</td>\n",
       "      <td>30 min</td>\n",
       "      <td>TV-MA</td>\n",
       "      <td>101883</td>\n",
       "      <td>NaN</td>\n",
       "      <td>action_series</td>\n",
       "      <td>NaN</td>\n",
       "      <td>, Bill Hader, , Stephen Root, , Sarah Goldberg...</td>\n",
       "    </tr>\n",
       "  </tbody>\n",
       "</table>\n",
       "</div>"
      ],
      "text/plain": [
       "                                 Title     IMDb ID Release Year  \\\n",
       "0  Spider-Man: Across the Spider-Verse   tt9362722         2023   \n",
       "1                                FUBAR  tt13064902       2023–    \n",
       "2                                Barry   tt5348176    2018–2023   \n",
       "\n",
       "                          Genre  \\\n",
       "0  Animation, Action, Adventure   \n",
       "1   Action, Adventure, Thriller   \n",
       "2         Action, Comedy, Crime   \n",
       "\n",
       "                                            Synopsis  Rating  Runtime  \\\n",
       "0  Miles Morales catapults across the Multiverse,...     9.1  140 min   \n",
       "1  A C.I.A. operative on the edge of retirement d...     6.5      NaN   \n",
       "2  A hit man from the Midwest moves to Los Angele...     8.4   30 min   \n",
       "\n",
       "  Certificate Number of Votes Gross Revenue    UniqueValue  \\\n",
       "0          PG           71960           NaN  action_series   \n",
       "1       TV-MA           15422           NaN  action_series   \n",
       "2       TV-MA          101883           NaN  action_series   \n",
       "\n",
       "                                           Directors  \\\n",
       "0  , Joaquim Dos Santos, , Kemp Powers, , Justin ...   \n",
       "1                                                NaN   \n",
       "2                                                NaN   \n",
       "\n",
       "                                               Stars  \n",
       "0  , Shameik Moore, , Hailee Steinfeld, , Brian T...  \n",
       "1  , Arnold Schwarzenegger, , Monica Barbaro, , M...  \n",
       "2  , Bill Hader, , Stephen Root, , Sarah Goldberg...  "
      ]
     },
     "execution_count": 22,
     "metadata": {},
     "output_type": "execute_result"
    }
   ],
   "source": [
    "archive_data.head(3)"
   ]
  },
  {
   "cell_type": "code",
   "execution_count": 23,
   "metadata": {},
   "outputs": [
    {
     "name": "stdout",
     "output_type": "stream",
     "text": [
      "<class 'pandas.core.frame.DataFrame'>\n",
      "RangeIndex: 236828 entries, 0 to 236827\n",
      "Data columns (total 13 columns):\n",
      " #   Column           Non-Null Count   Dtype  \n",
      "---  ------           --------------   -----  \n",
      " 0   Title            236828 non-null  object \n",
      " 1   IMDb ID          236828 non-null  object \n",
      " 2   Release Year     236819 non-null  object \n",
      " 3   Genre            236828 non-null  object \n",
      " 4   Synopsis         236828 non-null  object \n",
      " 5   Rating           236828 non-null  float64\n",
      " 6   Runtime          216983 non-null  object \n",
      " 7   Certificate      169091 non-null  object \n",
      " 8   Number of Votes  236828 non-null  object \n",
      " 9   Gross Revenue    45611 non-null   object \n",
      " 10  UniqueValue      236828 non-null  object \n",
      " 11  Directors        165866 non-null  object \n",
      " 12  Stars            229850 non-null  object \n",
      "dtypes: float64(1), object(12)\n",
      "memory usage: 23.5+ MB\n"
     ]
    }
   ],
   "source": [
    "archive_data.info()"
   ]
  },
  {
   "cell_type": "markdown",
   "metadata": {},
   "source": [
    "Using head() we can eliminate Certificate, Gross Revenue (since this isn't a features common in the other datasets) and UniqueValue. <br>\n",
    "Also, we can change the name of Title to \"Series_title\" and Release Year to \"Release_year\", Number of Votes to \"No_of_Votes\"and  Stars to \"Cast."
   ]
  },
  {
   "cell_type": "code",
   "execution_count": 24,
   "metadata": {},
   "outputs": [],
   "source": [
    "# Remove 'Certificate', 'Gross Revenue', and 'UniqueValue' columns\n",
    "archive_data.drop(columns=['Certificate', 'Gross Revenue', 'UniqueValue','IMDb ID'], inplace=True, errors='ignore')"
   ]
  },
  {
   "cell_type": "code",
   "execution_count": 25,
   "metadata": {},
   "outputs": [],
   "source": [
    "# Rename columns\n",
    "archive_data.rename(columns={\n",
    "    'Title': 'Series_title',\n",
    "    'Release Year': 'Release_year',\n",
    "    'Number of Votes': 'No_of_Votes_Rating',\n",
    "    'Stars': 'Cast'\n",
    "}, inplace=True)"
   ]
  },
  {
   "cell_type": "code",
   "execution_count": 26,
   "metadata": {},
   "outputs": [
    {
     "name": "stdout",
     "output_type": "stream",
     "text": [
      "<class 'pandas.core.frame.DataFrame'>\n",
      "RangeIndex: 236828 entries, 0 to 236827\n",
      "Data columns (total 9 columns):\n",
      " #   Column              Non-Null Count   Dtype  \n",
      "---  ------              --------------   -----  \n",
      " 0   Series_title        236828 non-null  object \n",
      " 1   Release_year        236819 non-null  object \n",
      " 2   Genre               236828 non-null  object \n",
      " 3   Synopsis            236828 non-null  object \n",
      " 4   Rating              236828 non-null  float64\n",
      " 5   Runtime             216983 non-null  object \n",
      " 6   No_of_Votes_Rating  236828 non-null  object \n",
      " 7   Directors           165866 non-null  object \n",
      " 8   Cast                229850 non-null  object \n",
      "dtypes: float64(1), object(8)\n",
      "memory usage: 16.3+ MB\n"
     ]
    }
   ],
   "source": [
    "archive_data.info()"
   ]
  },
  {
   "cell_type": "code",
   "execution_count": 27,
   "metadata": {},
   "outputs": [],
   "source": [
    "archive_data.dropna(inplace=True)"
   ]
  },
  {
   "cell_type": "code",
   "execution_count": 28,
   "metadata": {},
   "outputs": [
    {
     "data": {
      "text/plain": [
       "70833"
      ]
     },
     "execution_count": 28,
     "metadata": {},
     "output_type": "execute_result"
    }
   ],
   "source": [
    "archive_data['Series_title'].nunique()"
   ]
  },
  {
   "cell_type": "code",
   "execution_count": null,
   "metadata": {},
   "outputs": [],
   "source": []
  },
  {
   "cell_type": "markdown",
   "metadata": {},
   "source": [
    "---------------------------------------\n",
    "## Merging the Datasets"
   ]
  },
  {
   "cell_type": "code",
   "execution_count": 29,
   "metadata": {},
   "outputs": [
    {
     "name": "stdout",
     "output_type": "stream",
     "text": [
      "Count of unique titles in archive_data: 69509\n",
      "Count of unique titles in series: 6663\n",
      "Count of unique titles in series_data: 64\n",
      "Intersection between the datasets: 422\n"
     ]
    }
   ],
   "source": [
    "titles_df1 = set(archive_data['Series_title'])\n",
    "titles_df2 = set(series['Series_title'])\n",
    "titles_df3 = set(series_data['Series_title'])\n",
    "\n",
    "# Find the unique titles across all three DataFrames\n",
    "unique_titles_across_all = titles_df1.intersection(titles_df2, titles_df3)\n",
    "\n",
    "# Find the count of unique titles in each DataFrame individually\n",
    "count_unique_titles_df1 = len(titles_df1 - titles_df2 - titles_df3)\n",
    "count_unique_titles_df2 = len(titles_df2 - titles_df1 - titles_df3)\n",
    "count_unique_titles_df3 = len(titles_df3 - titles_df1 - titles_df2)\n",
    "\n",
    "# Find the count of unique titles across all DataFrames\n",
    "count_unique_titles_across_all = len(unique_titles_across_all)\n",
    "\n",
    "# Output counts of unique titles\n",
    "print(\"Count of unique titles in archive_data:\", count_unique_titles_df1)\n",
    "print(\"Count of unique titles in series:\", count_unique_titles_df2)\n",
    "print(\"Count of unique titles in series_data:\", count_unique_titles_df3)\n",
    "print(\"Intersection between the datasets:\", count_unique_titles_across_all)"
   ]
  },
  {
   "cell_type": "code",
   "execution_count": 30,
   "metadata": {},
   "outputs": [],
   "source": [
    "final_shows = pd.concat([archive_data, series, series_data])\n",
    "merged_data = final_shows.groupby('Series_title').agg(lambda x: x.dropna().unique().tolist()).reset_index()"
   ]
  },
  {
   "cell_type": "code",
   "execution_count": 31,
   "metadata": {},
   "outputs": [
    {
     "data": {
      "text/html": [
       "<div>\n",
       "<style scoped>\n",
       "    .dataframe tbody tr th:only-of-type {\n",
       "        vertical-align: middle;\n",
       "    }\n",
       "\n",
       "    .dataframe tbody tr th {\n",
       "        vertical-align: top;\n",
       "    }\n",
       "\n",
       "    .dataframe thead th {\n",
       "        text-align: right;\n",
       "    }\n",
       "</style>\n",
       "<table border=\"1\" class=\"dataframe\">\n",
       "  <thead>\n",
       "    <tr style=\"text-align: right;\">\n",
       "      <th></th>\n",
       "      <th>Series_title</th>\n",
       "      <th>Release_year</th>\n",
       "      <th>Genre</th>\n",
       "      <th>Synopsis</th>\n",
       "      <th>Rating</th>\n",
       "      <th>Runtime</th>\n",
       "      <th>No_of_Votes_Rating</th>\n",
       "      <th>Directors</th>\n",
       "      <th>Cast</th>\n",
       "      <th>IMDB_Rating</th>\n",
       "      <th>No_of_Votes_IMDB</th>\n",
       "    </tr>\n",
       "  </thead>\n",
       "  <tbody>\n",
       "    <tr>\n",
       "      <th>0</th>\n",
       "      <td>Cheyenne</td>\n",
       "      <td>[1955–1963]</td>\n",
       "      <td>[Western]</td>\n",
       "      <td>[After a close friend of Cheyenne is killed du...</td>\n",
       "      <td>[7.6, 7.8]</td>\n",
       "      <td>[40 min, 60 min]</td>\n",
       "      <td>[124, 121]</td>\n",
       "      <td>[, Richard L. Bare,]</td>\n",
       "      <td>[, Clint Walker, , Adele Mara, , L.Q. Jones, ,...</td>\n",
       "      <td>[]</td>\n",
       "      <td>[]</td>\n",
       "    </tr>\n",
       "    <tr>\n",
       "      <th>1</th>\n",
       "      <td>HBO Storybook Musicals</td>\n",
       "      <td>[1987– ]</td>\n",
       "      <td>[Animation, Family, Musical]</td>\n",
       "      <td>[Mike and his trusty shovel Mary Anne are know...</td>\n",
       "      <td>[7.7]</td>\n",
       "      <td>[26 min]</td>\n",
       "      <td>[56]</td>\n",
       "      <td>[, Michael Sporn,]</td>\n",
       "      <td>[, Robert Klein, , Jason Biggs, , Tina Fabriqu...</td>\n",
       "      <td>[]</td>\n",
       "      <td>[]</td>\n",
       "    </tr>\n",
       "    <tr>\n",
       "      <th>2</th>\n",
       "      <td>Jurassic World: Camp Cretaceous</td>\n",
       "      <td>[2020–2022]</td>\n",
       "      <td>[Animation, Action, Adventure]</td>\n",
       "      <td>[Based on the show Camp Cretaceous, Hidden Adv...</td>\n",
       "      <td>[7.1]</td>\n",
       "      <td>[32 min]</td>\n",
       "      <td>[131]</td>\n",
       "      <td>[, Leah Artwick, , Eric Elrod, , Michael Mulle...</td>\n",
       "      <td>[, Paul-Mikél Williams, , Sean Giambrone, , Ka...</td>\n",
       "      <td>[]</td>\n",
       "      <td>[]</td>\n",
       "    </tr>\n",
       "  </tbody>\n",
       "</table>\n",
       "</div>"
      ],
      "text/plain": [
       "                       Series_title Release_year  \\\n",
       "0                          Cheyenne  [1955–1963]   \n",
       "1            HBO Storybook Musicals     [1987– ]   \n",
       "2   Jurassic World: Camp Cretaceous  [2020–2022]   \n",
       "\n",
       "                            Genre  \\\n",
       "0                       [Western]   \n",
       "1    [Animation, Family, Musical]   \n",
       "2  [Animation, Action, Adventure]   \n",
       "\n",
       "                                            Synopsis      Rating  \\\n",
       "0  [After a close friend of Cheyenne is killed du...  [7.6, 7.8]   \n",
       "1  [Mike and his trusty shovel Mary Anne are know...       [7.7]   \n",
       "2  [Based on the show Camp Cretaceous, Hidden Adv...       [7.1]   \n",
       "\n",
       "            Runtime No_of_Votes_Rating  \\\n",
       "0  [40 min, 60 min]         [124, 121]   \n",
       "1          [26 min]               [56]   \n",
       "2          [32 min]              [131]   \n",
       "\n",
       "                                           Directors  \\\n",
       "0                               [, Richard L. Bare,]   \n",
       "1                                 [, Michael Sporn,]   \n",
       "2  [, Leah Artwick, , Eric Elrod, , Michael Mulle...   \n",
       "\n",
       "                                                Cast IMDB_Rating  \\\n",
       "0  [, Clint Walker, , Adele Mara, , L.Q. Jones, ,...          []   \n",
       "1  [, Robert Klein, , Jason Biggs, , Tina Fabriqu...          []   \n",
       "2  [, Paul-Mikél Williams, , Sean Giambrone, , Ka...          []   \n",
       "\n",
       "  No_of_Votes_IMDB  \n",
       "0               []  \n",
       "1               []  \n",
       "2               []  "
      ]
     },
     "execution_count": 31,
     "metadata": {},
     "output_type": "execute_result"
    }
   ],
   "source": [
    "merged_data.head(3)"
   ]
  },
  {
   "cell_type": "markdown",
   "metadata": {},
   "source": [
    "As we can see there are some rows that have more then 1 value in columns: Rating, Runtime and No_of_Votes_Rating. We will delete those rows.\n"
   ]
  },
  {
   "cell_type": "code",
   "execution_count": 32,
   "metadata": {},
   "outputs": [
    {
     "name": "stdout",
     "output_type": "stream",
     "text": [
      "Shape of DataFrame after removing rows: (72216, 11)\n"
     ]
    }
   ],
   "source": [
    "# Assuming 'merged_data' is your DataFrame\n",
    "\n",
    "# Function to check if a value is a list with two elements\n",
    "def is_list_with_two_elements(value):\n",
    "    return isinstance(value, list) and len(value) == 2\n",
    "\n",
    "# Filter out rows where any of the specified columns have lists with two elements\n",
    "merged_data = merged_data[~(\n",
    "    merged_data['Runtime'].apply(is_list_with_two_elements) |\n",
    "    merged_data['Rating'].apply(is_list_with_two_elements) |\n",
    "    merged_data['No_of_Votes_Rating'].apply(is_list_with_two_elements)\n",
    ")]\n",
    "\n",
    "# Check the shape of the DataFrame after filtering\n",
    "print(\"Shape of DataFrame after removing rows:\", merged_data.shape)\n"
   ]
  },
  {
   "cell_type": "code",
   "execution_count": 33,
   "metadata": {},
   "outputs": [
    {
     "data": {
      "text/html": [
       "<div>\n",
       "<style scoped>\n",
       "    .dataframe tbody tr th:only-of-type {\n",
       "        vertical-align: middle;\n",
       "    }\n",
       "\n",
       "    .dataframe tbody tr th {\n",
       "        vertical-align: top;\n",
       "    }\n",
       "\n",
       "    .dataframe thead th {\n",
       "        text-align: right;\n",
       "    }\n",
       "</style>\n",
       "<table border=\"1\" class=\"dataframe\">\n",
       "  <thead>\n",
       "    <tr style=\"text-align: right;\">\n",
       "      <th></th>\n",
       "      <th>Series_title</th>\n",
       "      <th>Release_year</th>\n",
       "      <th>Genre</th>\n",
       "      <th>Synopsis</th>\n",
       "      <th>Rating</th>\n",
       "      <th>Runtime</th>\n",
       "      <th>No_of_Votes_Rating</th>\n",
       "      <th>Directors</th>\n",
       "      <th>Cast</th>\n",
       "      <th>IMDB_Rating</th>\n",
       "      <th>No_of_Votes_IMDB</th>\n",
       "    </tr>\n",
       "  </thead>\n",
       "  <tbody>\n",
       "    <tr>\n",
       "      <th>1</th>\n",
       "      <td>HBO Storybook Musicals</td>\n",
       "      <td>[1987– ]</td>\n",
       "      <td>[Animation, Family, Musical]</td>\n",
       "      <td>[Mike and his trusty shovel Mary Anne are know...</td>\n",
       "      <td>[7.7]</td>\n",
       "      <td>[26 min]</td>\n",
       "      <td>[56]</td>\n",
       "      <td>[, Michael Sporn,]</td>\n",
       "      <td>[, Robert Klein, , Jason Biggs, , Tina Fabriqu...</td>\n",
       "      <td>[]</td>\n",
       "      <td>[]</td>\n",
       "    </tr>\n",
       "    <tr>\n",
       "      <th>2</th>\n",
       "      <td>Jurassic World: Camp Cretaceous</td>\n",
       "      <td>[2020–2022]</td>\n",
       "      <td>[Animation, Action, Adventure]</td>\n",
       "      <td>[Based on the show Camp Cretaceous, Hidden Adv...</td>\n",
       "      <td>[7.1]</td>\n",
       "      <td>[32 min]</td>\n",
       "      <td>[131]</td>\n",
       "      <td>[, Leah Artwick, , Eric Elrod, , Michael Mulle...</td>\n",
       "      <td>[, Paul-Mikél Williams, , Sean Giambrone, , Ka...</td>\n",
       "      <td>[]</td>\n",
       "      <td>[]</td>\n",
       "    </tr>\n",
       "    <tr>\n",
       "      <th>3</th>\n",
       "      <td>SMG4</td>\n",
       "      <td>[2011– ]</td>\n",
       "      <td>[Animation, Action, Adventure]</td>\n",
       "      <td>[SMG4 goes insane and it's up to his friends t...</td>\n",
       "      <td>[7.9]</td>\n",
       "      <td>[39 min]</td>\n",
       "      <td>[70]</td>\n",
       "      <td>[, Luke Lerdwichagul,]</td>\n",
       "      <td>[, James Bailey, , Kevin Lerdwichagul, , Luke ...</td>\n",
       "      <td>[]</td>\n",
       "      <td>[]</td>\n",
       "    </tr>\n",
       "    <tr>\n",
       "      <th>4</th>\n",
       "      <td>#1 Cheerleader Camp</td>\n",
       "      <td>[2010 Video]</td>\n",
       "      <td>[Comedy]</td>\n",
       "      <td>[A pair of horny college guys get summer jobs ...</td>\n",
       "      <td>[3.6]</td>\n",
       "      <td>[95 min]</td>\n",
       "      <td>[3258]</td>\n",
       "      <td>[, Mark Quod,]</td>\n",
       "      <td>[, Charlene Tilton, , Seth Cassell, , Jay Gill...</td>\n",
       "      <td>[]</td>\n",
       "      <td>[]</td>\n",
       "    </tr>\n",
       "    <tr>\n",
       "      <th>5</th>\n",
       "      <td>#69 Samskar Colony</td>\n",
       "      <td>[2022]</td>\n",
       "      <td>[Romance]</td>\n",
       "      <td>[Koushik, a teenage boy, moves to the city wit...</td>\n",
       "      <td>[6.1]</td>\n",
       "      <td>[126 min]</td>\n",
       "      <td>[529]</td>\n",
       "      <td>[, Suneel Kumar Reddy,]</td>\n",
       "      <td>[, Ajay, , Fm Babai, , Badram, , Bapiraju]</td>\n",
       "      <td>[]</td>\n",
       "      <td>[]</td>\n",
       "    </tr>\n",
       "  </tbody>\n",
       "</table>\n",
       "</div>"
      ],
      "text/plain": [
       "                       Series_title  Release_year  \\\n",
       "1            HBO Storybook Musicals      [1987– ]   \n",
       "2   Jurassic World: Camp Cretaceous   [2020–2022]   \n",
       "3                              SMG4      [2011– ]   \n",
       "4               #1 Cheerleader Camp  [2010 Video]   \n",
       "5                #69 Samskar Colony        [2022]   \n",
       "\n",
       "                            Genre  \\\n",
       "1    [Animation, Family, Musical]   \n",
       "2  [Animation, Action, Adventure]   \n",
       "3  [Animation, Action, Adventure]   \n",
       "4                        [Comedy]   \n",
       "5                       [Romance]   \n",
       "\n",
       "                                            Synopsis Rating    Runtime  \\\n",
       "1  [Mike and his trusty shovel Mary Anne are know...  [7.7]   [26 min]   \n",
       "2  [Based on the show Camp Cretaceous, Hidden Adv...  [7.1]   [32 min]   \n",
       "3  [SMG4 goes insane and it's up to his friends t...  [7.9]   [39 min]   \n",
       "4  [A pair of horny college guys get summer jobs ...  [3.6]   [95 min]   \n",
       "5  [Koushik, a teenage boy, moves to the city wit...  [6.1]  [126 min]   \n",
       "\n",
       "  No_of_Votes_Rating                                          Directors  \\\n",
       "1               [56]                                 [, Michael Sporn,]   \n",
       "2              [131]  [, Leah Artwick, , Eric Elrod, , Michael Mulle...   \n",
       "3               [70]                             [, Luke Lerdwichagul,]   \n",
       "4             [3258]                                     [, Mark Quod,]   \n",
       "5              [529]                            [, Suneel Kumar Reddy,]   \n",
       "\n",
       "                                                Cast IMDB_Rating  \\\n",
       "1  [, Robert Klein, , Jason Biggs, , Tina Fabriqu...          []   \n",
       "2  [, Paul-Mikél Williams, , Sean Giambrone, , Ka...          []   \n",
       "3  [, James Bailey, , Kevin Lerdwichagul, , Luke ...          []   \n",
       "4  [, Charlene Tilton, , Seth Cassell, , Jay Gill...          []   \n",
       "5         [, Ajay, , Fm Babai, , Badram, , Bapiraju]          []   \n",
       "\n",
       "  No_of_Votes_IMDB  \n",
       "1               []  \n",
       "2               []  \n",
       "3               []  \n",
       "4               []  \n",
       "5               []  "
      ]
     },
     "execution_count": 33,
     "metadata": {},
     "output_type": "execute_result"
    }
   ],
   "source": [
    "merged_data.head()"
   ]
  },
  {
   "cell_type": "code",
   "execution_count": 34,
   "metadata": {},
   "outputs": [
    {
     "data": {
      "text/plain": [
       "Index(['Series_title', 'Release_year', 'Genre', 'Synopsis', 'Rating',\n",
       "       'Runtime', 'No_of_Votes_Rating', 'Directors', 'Cast', 'IMDB_Rating',\n",
       "       'No_of_Votes_IMDB'],\n",
       "      dtype='object')"
      ]
     },
     "execution_count": 34,
     "metadata": {},
     "output_type": "execute_result"
    }
   ],
   "source": [
    "merged_data.columns"
   ]
  },
  {
   "cell_type": "markdown",
   "metadata": {},
   "source": [
    "There are still some things that we can do for your dataset:\n",
    "1. Set empty lists to zero: To replace empty lists with zeros in the DataFrame, we can use the apply function to identify and replace the empty lists in specific columns.\n",
    "\n",
    "2. Extract numbers from 'Runtime': We'll extract the numerical values from the 'Runtime' column by removing the 'min' text.\n",
    "\n",
    "3. Convert columns containing lists into numbers: We'll convert the columns 'Rating', 'No_of_Votes_Rating', 'IMDB_Rating', 'No_of_Votes_IMDB' from lists to individual numerical values."
   ]
  },
  {
   "cell_type": "code",
   "execution_count": 35,
   "metadata": {},
   "outputs": [],
   "source": [
    "# Loop through all columns and replace empty lists with zeros\n",
    "for col in merged_data.columns:\n",
    "    merged_data[col] = merged_data[col].apply(lambda x: 0 if isinstance(x, list) and len(x) == 0 else x)\n"
   ]
  },
  {
   "cell_type": "code",
   "execution_count": 36,
   "metadata": {},
   "outputs": [
    {
     "data": {
      "text/plain": [
       "1     26.0\n",
       "2     32.0\n",
       "3     39.0\n",
       "4     95.0\n",
       "5    126.0\n",
       "Name: Runtime, dtype: float64"
      ]
     },
     "execution_count": 36,
     "metadata": {},
     "output_type": "execute_result"
    }
   ],
   "source": [
    "\n",
    "# Convert 'Runtime' to string type to handle non-string values\n",
    "merged_data['Runtime'] = merged_data['Runtime'].astype(str)\n",
    "\n",
    "# Extract numerical values with regular expression and handle missing or non-matching values\n",
    "merged_data['Runtime'] = merged_data['Runtime'].str.extract(r'(\\d+)', expand=False)\n",
    "merged_data['Runtime'] = merged_data['Runtime'].replace('', np.nan)  # Replace empty strings with NaN\n",
    "merged_data['Runtime'] = merged_data['Runtime'].astype(float)  # Convert to float type\n",
    "\n",
    "# Display a sample of the modified 'Runtime' column\n",
    "merged_data['Runtime'].head()\n"
   ]
  },
  {
   "cell_type": "code",
   "execution_count": 37,
   "metadata": {},
   "outputs": [],
   "source": [
    "# Convert columns containing lists into numbers\n",
    "cols_to_convert_to_number = ['Rating', 'No_of_Votes_Rating', 'IMDB_Rating', 'No_of_Votes_IMDB']\n",
    "\n",
    "for col in cols_to_convert_to_number:\n",
    "    merged_data[col] = merged_data[col].apply(lambda x: x[0] if isinstance(x, list) and len(x) == 1 else x)"
   ]
  },
  {
   "cell_type": "code",
   "execution_count": 38,
   "metadata": {},
   "outputs": [
    {
     "data": {
      "text/html": [
       "<div>\n",
       "<style scoped>\n",
       "    .dataframe tbody tr th:only-of-type {\n",
       "        vertical-align: middle;\n",
       "    }\n",
       "\n",
       "    .dataframe tbody tr th {\n",
       "        vertical-align: top;\n",
       "    }\n",
       "\n",
       "    .dataframe thead th {\n",
       "        text-align: right;\n",
       "    }\n",
       "</style>\n",
       "<table border=\"1\" class=\"dataframe\">\n",
       "  <thead>\n",
       "    <tr style=\"text-align: right;\">\n",
       "      <th></th>\n",
       "      <th>Series_title</th>\n",
       "      <th>Release_year</th>\n",
       "      <th>Genre</th>\n",
       "      <th>Synopsis</th>\n",
       "      <th>Rating</th>\n",
       "      <th>Runtime</th>\n",
       "      <th>No_of_Votes_Rating</th>\n",
       "      <th>Directors</th>\n",
       "      <th>Cast</th>\n",
       "      <th>IMDB_Rating</th>\n",
       "      <th>No_of_Votes_IMDB</th>\n",
       "    </tr>\n",
       "  </thead>\n",
       "  <tbody>\n",
       "    <tr>\n",
       "      <th>1</th>\n",
       "      <td>HBO Storybook Musicals</td>\n",
       "      <td>[1987– ]</td>\n",
       "      <td>[Animation, Family, Musical]</td>\n",
       "      <td>[Mike and his trusty shovel Mary Anne are know...</td>\n",
       "      <td>7.7</td>\n",
       "      <td>26.0</td>\n",
       "      <td>56</td>\n",
       "      <td>[, Michael Sporn,]</td>\n",
       "      <td>[, Robert Klein, , Jason Biggs, , Tina Fabriqu...</td>\n",
       "      <td>0</td>\n",
       "      <td>0</td>\n",
       "    </tr>\n",
       "    <tr>\n",
       "      <th>2</th>\n",
       "      <td>Jurassic World: Camp Cretaceous</td>\n",
       "      <td>[2020–2022]</td>\n",
       "      <td>[Animation, Action, Adventure]</td>\n",
       "      <td>[Based on the show Camp Cretaceous, Hidden Adv...</td>\n",
       "      <td>7.1</td>\n",
       "      <td>32.0</td>\n",
       "      <td>131</td>\n",
       "      <td>[, Leah Artwick, , Eric Elrod, , Michael Mulle...</td>\n",
       "      <td>[, Paul-Mikél Williams, , Sean Giambrone, , Ka...</td>\n",
       "      <td>0</td>\n",
       "      <td>0</td>\n",
       "    </tr>\n",
       "    <tr>\n",
       "      <th>3</th>\n",
       "      <td>SMG4</td>\n",
       "      <td>[2011– ]</td>\n",
       "      <td>[Animation, Action, Adventure]</td>\n",
       "      <td>[SMG4 goes insane and it's up to his friends t...</td>\n",
       "      <td>7.9</td>\n",
       "      <td>39.0</td>\n",
       "      <td>70</td>\n",
       "      <td>[, Luke Lerdwichagul,]</td>\n",
       "      <td>[, James Bailey, , Kevin Lerdwichagul, , Luke ...</td>\n",
       "      <td>0</td>\n",
       "      <td>0</td>\n",
       "    </tr>\n",
       "    <tr>\n",
       "      <th>4</th>\n",
       "      <td>#1 Cheerleader Camp</td>\n",
       "      <td>[2010 Video]</td>\n",
       "      <td>[Comedy]</td>\n",
       "      <td>[A pair of horny college guys get summer jobs ...</td>\n",
       "      <td>3.6</td>\n",
       "      <td>95.0</td>\n",
       "      <td>3258</td>\n",
       "      <td>[, Mark Quod,]</td>\n",
       "      <td>[, Charlene Tilton, , Seth Cassell, , Jay Gill...</td>\n",
       "      <td>0</td>\n",
       "      <td>0</td>\n",
       "    </tr>\n",
       "    <tr>\n",
       "      <th>5</th>\n",
       "      <td>#69 Samskar Colony</td>\n",
       "      <td>[2022]</td>\n",
       "      <td>[Romance]</td>\n",
       "      <td>[Koushik, a teenage boy, moves to the city wit...</td>\n",
       "      <td>6.1</td>\n",
       "      <td>126.0</td>\n",
       "      <td>529</td>\n",
       "      <td>[, Suneel Kumar Reddy,]</td>\n",
       "      <td>[, Ajay, , Fm Babai, , Badram, , Bapiraju]</td>\n",
       "      <td>0</td>\n",
       "      <td>0</td>\n",
       "    </tr>\n",
       "  </tbody>\n",
       "</table>\n",
       "</div>"
      ],
      "text/plain": [
       "                       Series_title  Release_year  \\\n",
       "1            HBO Storybook Musicals      [1987– ]   \n",
       "2   Jurassic World: Camp Cretaceous   [2020–2022]   \n",
       "3                              SMG4      [2011– ]   \n",
       "4               #1 Cheerleader Camp  [2010 Video]   \n",
       "5                #69 Samskar Colony        [2022]   \n",
       "\n",
       "                            Genre  \\\n",
       "1    [Animation, Family, Musical]   \n",
       "2  [Animation, Action, Adventure]   \n",
       "3  [Animation, Action, Adventure]   \n",
       "4                        [Comedy]   \n",
       "5                       [Romance]   \n",
       "\n",
       "                                            Synopsis Rating  Runtime  \\\n",
       "1  [Mike and his trusty shovel Mary Anne are know...    7.7     26.0   \n",
       "2  [Based on the show Camp Cretaceous, Hidden Adv...    7.1     32.0   \n",
       "3  [SMG4 goes insane and it's up to his friends t...    7.9     39.0   \n",
       "4  [A pair of horny college guys get summer jobs ...    3.6     95.0   \n",
       "5  [Koushik, a teenage boy, moves to the city wit...    6.1    126.0   \n",
       "\n",
       "  No_of_Votes_Rating                                          Directors  \\\n",
       "1                 56                                 [, Michael Sporn,]   \n",
       "2                131  [, Leah Artwick, , Eric Elrod, , Michael Mulle...   \n",
       "3                 70                             [, Luke Lerdwichagul,]   \n",
       "4               3258                                     [, Mark Quod,]   \n",
       "5                529                            [, Suneel Kumar Reddy,]   \n",
       "\n",
       "                                                Cast IMDB_Rating  \\\n",
       "1  [, Robert Klein, , Jason Biggs, , Tina Fabriqu...           0   \n",
       "2  [, Paul-Mikél Williams, , Sean Giambrone, , Ka...           0   \n",
       "3  [, James Bailey, , Kevin Lerdwichagul, , Luke ...           0   \n",
       "4  [, Charlene Tilton, , Seth Cassell, , Jay Gill...           0   \n",
       "5         [, Ajay, , Fm Babai, , Badram, , Bapiraju]           0   \n",
       "\n",
       "  No_of_Votes_IMDB  \n",
       "1                0  \n",
       "2                0  \n",
       "3                0  \n",
       "4                0  \n",
       "5                0  "
      ]
     },
     "execution_count": 38,
     "metadata": {},
     "output_type": "execute_result"
    }
   ],
   "source": [
    "merged_data.head()"
   ]
  },
  {
   "cell_type": "code",
   "execution_count": 39,
   "metadata": {},
   "outputs": [
    {
     "data": {
      "text/html": [
       "<div>\n",
       "<style scoped>\n",
       "    .dataframe tbody tr th:only-of-type {\n",
       "        vertical-align: middle;\n",
       "    }\n",
       "\n",
       "    .dataframe tbody tr th {\n",
       "        vertical-align: top;\n",
       "    }\n",
       "\n",
       "    .dataframe thead th {\n",
       "        text-align: right;\n",
       "    }\n",
       "</style>\n",
       "<table border=\"1\" class=\"dataframe\">\n",
       "  <thead>\n",
       "    <tr style=\"text-align: right;\">\n",
       "      <th></th>\n",
       "      <th>Series_title</th>\n",
       "      <th>Release_year</th>\n",
       "      <th>Genre</th>\n",
       "      <th>Synopsis</th>\n",
       "      <th>Rating</th>\n",
       "      <th>Runtime</th>\n",
       "      <th>No_of_Votes_Rating</th>\n",
       "      <th>Directors</th>\n",
       "      <th>Cast</th>\n",
       "      <th>IMDB_Rating</th>\n",
       "      <th>No_of_Votes_IMDB</th>\n",
       "    </tr>\n",
       "  </thead>\n",
       "  <tbody>\n",
       "    <tr>\n",
       "      <th>87</th>\n",
       "      <td>(Untitled)</td>\n",
       "      <td>[2009]</td>\n",
       "      <td>[Comedy, Drama, Music]</td>\n",
       "      <td>[A Chelsea art gallerist falls for a brooding ...</td>\n",
       "      <td>6.2</td>\n",
       "      <td>96.0</td>\n",
       "      <td>2252</td>\n",
       "      <td>[, Jonathan Parker,]</td>\n",
       "      <td>[, Adam Goldberg, , Marley Shelton, , Eion Bai...</td>\n",
       "      <td>0</td>\n",
       "      <td>0</td>\n",
       "    </tr>\n",
       "    <tr>\n",
       "      <th>74336</th>\n",
       "      <td>Untitled Horror Movie</td>\n",
       "      <td>[2021]</td>\n",
       "      <td>[Comedy, Horror]</td>\n",
       "      <td>[A comedy about making a horror movie. When si...</td>\n",
       "      <td>4.8</td>\n",
       "      <td>87.0</td>\n",
       "      <td>1226</td>\n",
       "      <td>[, Nick Simon,]</td>\n",
       "      <td>[, Luke Baines, , Darren Barnet, , Timothy Gra...</td>\n",
       "      <td>0</td>\n",
       "      <td>0</td>\n",
       "    </tr>\n",
       "    <tr>\n",
       "      <th>74337</th>\n",
       "      <td>Untitled Macbeth Western Project</td>\n",
       "      <td>[2015]</td>\n",
       "      <td>[Short, Action, Comedy]</td>\n",
       "      <td>[When Sheriff Macbeth the Kid kills Marshal Du...</td>\n",
       "      <td>6.8</td>\n",
       "      <td>40.0</td>\n",
       "      <td>6</td>\n",
       "      <td>[, Alexander Wardach,]</td>\n",
       "      <td>[, Zachary Nekola, , Alexander Wardach, , Geor...</td>\n",
       "      <td>0</td>\n",
       "      <td>0</td>\n",
       "    </tr>\n",
       "    <tr>\n",
       "      <th>74338</th>\n",
       "      <td>Untitled Pizza Movie</td>\n",
       "      <td>[2020]</td>\n",
       "      <td>[Adventure]</td>\n",
       "      <td>[How do you remember somebody in a disposable ...</td>\n",
       "      <td>7.3</td>\n",
       "      <td>113.0</td>\n",
       "      <td>7</td>\n",
       "      <td>[, David Shapiro,]</td>\n",
       "      <td>[, Andrew Bellucci, , Leeds Atkinson, , David ...</td>\n",
       "      <td>0</td>\n",
       "      <td>0</td>\n",
       "    </tr>\n",
       "    <tr>\n",
       "      <th>74339</th>\n",
       "      <td>Untitled the Batman Spinoff</td>\n",
       "      <td>[(2023– )]</td>\n",
       "      <td>[Crime, Drama, Fantasy]</td>\n",
       "      <td>[It follows the transformation of Oswald Cobbl...</td>\n",
       "      <td>****</td>\n",
       "      <td>NaN</td>\n",
       "      <td>0</td>\n",
       "      <td>0</td>\n",
       "      <td>[Star:Colin Farrell]</td>\n",
       "      <td>0</td>\n",
       "      <td>0</td>\n",
       "    </tr>\n",
       "  </tbody>\n",
       "</table>\n",
       "</div>"
      ],
      "text/plain": [
       "                           Series_title Release_year                    Genre  \\\n",
       "87                           (Untitled)       [2009]   [Comedy, Drama, Music]   \n",
       "74336             Untitled Horror Movie       [2021]         [Comedy, Horror]   \n",
       "74337  Untitled Macbeth Western Project       [2015]  [Short, Action, Comedy]   \n",
       "74338              Untitled Pizza Movie       [2020]              [Adventure]   \n",
       "74339       Untitled the Batman Spinoff   [(2023– )]  [Crime, Drama, Fantasy]   \n",
       "\n",
       "                                                Synopsis Rating  Runtime  \\\n",
       "87     [A Chelsea art gallerist falls for a brooding ...    6.2     96.0   \n",
       "74336  [A comedy about making a horror movie. When si...    4.8     87.0   \n",
       "74337  [When Sheriff Macbeth the Kid kills Marshal Du...    6.8     40.0   \n",
       "74338  [How do you remember somebody in a disposable ...    7.3    113.0   \n",
       "74339  [It follows the transformation of Oswald Cobbl...   ****      NaN   \n",
       "\n",
       "      No_of_Votes_Rating               Directors  \\\n",
       "87                  2252    [, Jonathan Parker,]   \n",
       "74336               1226         [, Nick Simon,]   \n",
       "74337                  6  [, Alexander Wardach,]   \n",
       "74338                  7      [, David Shapiro,]   \n",
       "74339                  0                       0   \n",
       "\n",
       "                                                    Cast IMDB_Rating  \\\n",
       "87     [, Adam Goldberg, , Marley Shelton, , Eion Bai...           0   \n",
       "74336  [, Luke Baines, , Darren Barnet, , Timothy Gra...           0   \n",
       "74337  [, Zachary Nekola, , Alexander Wardach, , Geor...           0   \n",
       "74338  [, Andrew Bellucci, , Leeds Atkinson, , David ...           0   \n",
       "74339                               [Star:Colin Farrell]           0   \n",
       "\n",
       "      No_of_Votes_IMDB  \n",
       "87                   0  \n",
       "74336                0  \n",
       "74337                0  \n",
       "74338                0  \n",
       "74339                0  "
      ]
     },
     "execution_count": 39,
     "metadata": {},
     "output_type": "execute_result"
    }
   ],
   "source": [
    "game_titles = merged_data[merged_data['Series_title'].str.contains('untitled', case=False)]\n",
    "\n",
    "# Display rows where the 'Title' column contains the word 'game'\n",
    "game_titles"
   ]
  },
  {
   "cell_type": "code",
   "execution_count": 40,
   "metadata": {},
   "outputs": [
    {
     "name": "stdout",
     "output_type": "stream",
     "text": [
      "5\n"
     ]
    }
   ],
   "source": [
    "print(len(game_titles))"
   ]
  },
  {
   "cell_type": "code",
   "execution_count": 41,
   "metadata": {},
   "outputs": [
    {
     "data": {
      "text/html": [
       "<div>\n",
       "<style scoped>\n",
       "    .dataframe tbody tr th:only-of-type {\n",
       "        vertical-align: middle;\n",
       "    }\n",
       "\n",
       "    .dataframe tbody tr th {\n",
       "        vertical-align: top;\n",
       "    }\n",
       "\n",
       "    .dataframe thead th {\n",
       "        text-align: right;\n",
       "    }\n",
       "</style>\n",
       "<table border=\"1\" class=\"dataframe\">\n",
       "  <thead>\n",
       "    <tr style=\"text-align: right;\">\n",
       "      <th></th>\n",
       "      <th>Series_title</th>\n",
       "      <th>Release_year</th>\n",
       "      <th>Genre</th>\n",
       "      <th>Synopsis</th>\n",
       "      <th>Rating</th>\n",
       "      <th>Runtime</th>\n",
       "      <th>No_of_Votes_Rating</th>\n",
       "      <th>Directors</th>\n",
       "      <th>Cast</th>\n",
       "      <th>IMDB_Rating</th>\n",
       "      <th>No_of_Votes_IMDB</th>\n",
       "    </tr>\n",
       "  </thead>\n",
       "  <tbody>\n",
       "    <tr>\n",
       "      <th>1</th>\n",
       "      <td>HBO Storybook Musicals</td>\n",
       "      <td>[1987– ]</td>\n",
       "      <td>[Animation, Family, Musical]</td>\n",
       "      <td>[Mike and his trusty shovel Mary Anne are know...</td>\n",
       "      <td>7.7</td>\n",
       "      <td>26.0</td>\n",
       "      <td>56</td>\n",
       "      <td>[, Michael Sporn,]</td>\n",
       "      <td>[, Robert Klein, , Jason Biggs, , Tina Fabriqu...</td>\n",
       "      <td>0</td>\n",
       "      <td>0</td>\n",
       "    </tr>\n",
       "    <tr>\n",
       "      <th>2</th>\n",
       "      <td>Jurassic World: Camp Cretaceous</td>\n",
       "      <td>[2020–2022]</td>\n",
       "      <td>[Animation, Action, Adventure]</td>\n",
       "      <td>[Based on the show Camp Cretaceous, Hidden Adv...</td>\n",
       "      <td>7.1</td>\n",
       "      <td>32.0</td>\n",
       "      <td>131</td>\n",
       "      <td>[, Leah Artwick, , Eric Elrod, , Michael Mulle...</td>\n",
       "      <td>[, Paul-Mikél Williams, , Sean Giambrone, , Ka...</td>\n",
       "      <td>0</td>\n",
       "      <td>0</td>\n",
       "    </tr>\n",
       "    <tr>\n",
       "      <th>3</th>\n",
       "      <td>SMG4</td>\n",
       "      <td>[2011– ]</td>\n",
       "      <td>[Animation, Action, Adventure]</td>\n",
       "      <td>[SMG4 goes insane and it's up to his friends t...</td>\n",
       "      <td>7.9</td>\n",
       "      <td>39.0</td>\n",
       "      <td>70</td>\n",
       "      <td>[, Luke Lerdwichagul,]</td>\n",
       "      <td>[, James Bailey, , Kevin Lerdwichagul, , Luke ...</td>\n",
       "      <td>0</td>\n",
       "      <td>0</td>\n",
       "    </tr>\n",
       "  </tbody>\n",
       "</table>\n",
       "</div>"
      ],
      "text/plain": [
       "                       Series_title Release_year  \\\n",
       "1            HBO Storybook Musicals     [1987– ]   \n",
       "2   Jurassic World: Camp Cretaceous  [2020–2022]   \n",
       "3                              SMG4     [2011– ]   \n",
       "\n",
       "                            Genre  \\\n",
       "1    [Animation, Family, Musical]   \n",
       "2  [Animation, Action, Adventure]   \n",
       "3  [Animation, Action, Adventure]   \n",
       "\n",
       "                                            Synopsis Rating  Runtime  \\\n",
       "1  [Mike and his trusty shovel Mary Anne are know...    7.7     26.0   \n",
       "2  [Based on the show Camp Cretaceous, Hidden Adv...    7.1     32.0   \n",
       "3  [SMG4 goes insane and it's up to his friends t...    7.9     39.0   \n",
       "\n",
       "  No_of_Votes_Rating                                          Directors  \\\n",
       "1                 56                                 [, Michael Sporn,]   \n",
       "2                131  [, Leah Artwick, , Eric Elrod, , Michael Mulle...   \n",
       "3                 70                             [, Luke Lerdwichagul,]   \n",
       "\n",
       "                                                Cast IMDB_Rating  \\\n",
       "1  [, Robert Klein, , Jason Biggs, , Tina Fabriqu...           0   \n",
       "2  [, Paul-Mikél Williams, , Sean Giambrone, , Ka...           0   \n",
       "3  [, James Bailey, , Kevin Lerdwichagul, , Luke ...           0   \n",
       "\n",
       "  No_of_Votes_IMDB  \n",
       "1                0  \n",
       "2                0  \n",
       "3                0  "
      ]
     },
     "execution_count": 41,
     "metadata": {},
     "output_type": "execute_result"
    }
   ],
   "source": [
    "# Assuming 'merged_df' is your DataFrame\n",
    "merged_data = merged_data[~merged_data['Series_title'].str.contains('untitled', case=False)]\n",
    "\n",
    "# Display updated DataFrame after removing rows with 'untitled' in the 'Title' column\n",
    "merged_data.head(3)\n"
   ]
  },
  {
   "cell_type": "code",
   "execution_count": 42,
   "metadata": {},
   "outputs": [
    {
     "name": "stdout",
     "output_type": "stream",
     "text": [
      "0\n"
     ]
    }
   ],
   "source": [
    "missing_release_year = merged_data[merged_data['Release_year'].isnull()]\n",
    "\n",
    "# Display rows with missing values in the 'Release Year' column\n",
    "print(len(missing_release_year))"
   ]
  },
  {
   "cell_type": "code",
   "execution_count": 43,
   "metadata": {},
   "outputs": [
    {
     "name": "stdout",
     "output_type": "stream",
     "text": [
      "<class 'pandas.core.frame.DataFrame'>\n",
      "Index: 72211 entries, 1 to 78983\n",
      "Data columns (total 11 columns):\n",
      " #   Column              Non-Null Count  Dtype  \n",
      "---  ------              --------------  -----  \n",
      " 0   Series_title        72211 non-null  object \n",
      " 1   Release_year        72211 non-null  object \n",
      " 2   Genre               72211 non-null  object \n",
      " 3   Synopsis            72211 non-null  object \n",
      " 4   Rating              72211 non-null  object \n",
      " 5   Runtime             70921 non-null  float64\n",
      " 6   No_of_Votes_Rating  72211 non-null  object \n",
      " 7   Directors           72211 non-null  object \n",
      " 8   Cast                72211 non-null  object \n",
      " 9   IMDB_Rating         72211 non-null  object \n",
      " 10  No_of_Votes_IMDB    72211 non-null  object \n",
      "dtypes: float64(1), object(10)\n",
      "memory usage: 6.6+ MB\n"
     ]
    }
   ],
   "source": [
    "merged_data.info()  # Show DataFrame information after removal"
   ]
  },
  {
   "cell_type": "markdown",
   "metadata": {},
   "source": [
    "It is time to delete the NaN values."
   ]
  },
  {
   "cell_type": "code",
   "execution_count": 44,
   "metadata": {},
   "outputs": [
    {
     "name": "stdout",
     "output_type": "stream",
     "text": [
      "<class 'pandas.core.frame.DataFrame'>\n",
      "Index: 70921 entries, 1 to 78983\n",
      "Data columns (total 11 columns):\n",
      " #   Column              Non-Null Count  Dtype  \n",
      "---  ------              --------------  -----  \n",
      " 0   Series_title        70921 non-null  object \n",
      " 1   Release_year        70921 non-null  object \n",
      " 2   Genre               70921 non-null  object \n",
      " 3   Synopsis            70921 non-null  object \n",
      " 4   Rating              70921 non-null  object \n",
      " 5   Runtime             70921 non-null  float64\n",
      " 6   No_of_Votes_Rating  70921 non-null  object \n",
      " 7   Directors           70921 non-null  object \n",
      " 8   Cast                70921 non-null  object \n",
      " 9   IMDB_Rating         70921 non-null  object \n",
      " 10  No_of_Votes_IMDB    70921 non-null  object \n",
      "dtypes: float64(1), object(10)\n",
      "memory usage: 6.5+ MB\n"
     ]
    }
   ],
   "source": [
    "merged_data.dropna(inplace=True)\n",
    "merged_data.info()"
   ]
  },
  {
   "cell_type": "markdown",
   "metadata": {},
   "source": [
    "### Visualizing Genre Representation and Threshold Filtering\n",
    "\n",
    "To visually depict the impact of the 0.5% threshold on genre representation:\n",
    "\n",
    "1. **Plotting Initial Genre Distribution:**\n",
    "    - Create a bar chart illustrating the percentage of each genre in the original dataset before filtering.\n",
    "    - Highlight genres falling below the 0.5% threshold.\n",
    "\n",
    "2. **Plotting Filtered Genre Distribution:**\n",
    "    - Generate a second bar chart showing the adjusted percentage of genres after removing rows below the 0.5% threshold.\n",
    "    - Compare the before and after charts to visualize the impact of the threshold filtering."
   ]
  },
  {
   "cell_type": "code",
   "execution_count": 45,
   "metadata": {},
   "outputs": [
    {
     "name": "stdout",
     "output_type": "stream",
     "text": [
      "Unique Genres (Alphabetically Sorted):\n",
      "['****', 'Action', 'Adult', 'Adventure', 'Animation', 'Biography', 'Comedy', 'Crime', 'Documentary', 'Drama', 'Family', 'Fantasy', 'Film-Noir', 'Game-Show', 'History', 'Horror', 'Music', 'Musical', 'Mystery', 'News', 'Reality-TV', 'Romance', 'Sci-Fi', 'Short', 'Sport', 'Talk-Show', 'Thriller', 'War', 'Western']\n"
     ]
    }
   ],
   "source": [
    "# Combine all genres into a single string\n",
    "all_genres = ', '.join(merged_data['Genre'].explode().dropna())\n",
    "\n",
    "# Split the combined string into individual genres, remove spaces, and get unique genres\n",
    "unique_sorted_genres = sorted(set(all_genres.replace(' ', '').split(',')))\n",
    "\n",
    "# Display unique genres in alphabetical order\n",
    "print(\"Unique Genres (Alphabetically Sorted):\")\n",
    "print(unique_sorted_genres)"
   ]
  },
  {
   "cell_type": "code",
   "execution_count": 46,
   "metadata": {},
   "outputs": [
    {
     "name": "stdout",
     "output_type": "stream",
     "text": [
      "Shape of DataFrame after removing rows with **** genre: (70921, 11)\n"
     ]
    }
   ],
   "source": [
    "# Filtering to get rows where Genre is '****'\n",
    "rows_with_asterisks = merged_data[merged_data['Genre'] == '****']\n",
    "\n",
    "# Dropping rows where Genre is '****' from the DataFrame\n",
    "merged_data = merged_data[merged_data['Genre'] != '****']\n",
    "\n",
    "# Checking the shape of the DataFrame after removal\n",
    "print(\"Shape of DataFrame after removing rows with **** genre:\", merged_data.shape)"
   ]
  },
  {
   "cell_type": "code",
   "execution_count": 47,
   "metadata": {},
   "outputs": [
    {
     "data": {
      "image/png": "[encoded data removed]",
      "text/plain": [
       "<Figure size 1200x600 with 1 Axes>"
      ]
     },
     "metadata": {},
     "output_type": "display_data"
    }
   ],
   "source": [
    "import matplotlib.pyplot as plt\n",
    "\n",
    "# Combine all genres into a single string and split them\n",
    "all_genres = ','.join(merged_data['Genre'].explode().dropna())\n",
    "split_genres = [genre.strip() for genre in all_genres.split(',')]\n",
    "\n",
    "# Get the frequency of each individual genre\n",
    "genre_counts = pd.Series(split_genres).value_counts()\n",
    "\n",
    "# Calculate the percentage of each genre\n",
    "genre_percentages = (genre_counts / genre_counts.sum()) * 100\n",
    "\n",
    "# Sort genres by count in descending order\n",
    "sorted_genres = genre_percentages.sort_values(ascending=False)\n",
    "\n",
    "# Create bar chart for individual genre distribution with numbers above bars\n",
    "plt.figure(figsize=(12, 6))\n",
    "bars = plt.bar(sorted_genres.index, sorted_genres, color='skyblue')\n",
    "plt.title('Percentage of Each Individual Genre in the Dataset')\n",
    "plt.xlabel('Genres')\n",
    "plt.ylabel('Percentage (%)')\n",
    "plt.xticks(rotation=90)\n",
    "\n",
    "# Add text labels for each bar\n",
    "for bar in bars:\n",
    "    yval = bar.get_height()\n",
    "    plt.text(bar.get_x() + bar.get_width() / 2, yval + 1, round(yval, 2), ha='center', va='bottom')\n",
    "\n",
    "plt.tight_layout()\n",
    "plt.show()\n",
    "\n"
   ]
  },
  {
   "cell_type": "code",
   "execution_count": 48,
   "metadata": {},
   "outputs": [
    {
     "data": {
      "text/plain": [
       "(70921, 11)"
      ]
     },
     "execution_count": 48,
     "metadata": {},
     "output_type": "execute_result"
    }
   ],
   "source": [
    "merged_data.shape"
   ]
  },
  {
   "cell_type": "code",
   "execution_count": 49,
   "metadata": {},
   "outputs": [
    {
     "name": "stdout",
     "output_type": "stream",
     "text": [
      "Number of series with 'Reality-TV' in the genre: 244\n"
     ]
    }
   ],
   "source": [
    "# Count the occurrences of 'Reality-TV' in the 'Genre' column\n",
    "reality_tv_count = (merged_data['Genre'].apply(lambda x: 'Reality-TV' in x)).sum()\n",
    "\n",
    "print(f\"Number of series with 'Reality-TV' in the genre: {reality_tv_count}\")\n"
   ]
  },
  {
   "cell_type": "code",
   "execution_count": 50,
   "metadata": {},
   "outputs": [
    {
     "name": "stdout",
     "output_type": "stream",
     "text": [
      "Shape of dataset with genres above 1.5% (500 rows per genre): (5588, 11)\n"
     ]
    }
   ],
   "source": [
    "import pandas as pd\n",
    "import numpy as np\n",
    "\n",
    "# Assuming 'merged_data' is your DataFrame\n",
    "\n",
    "# Combine all genres into a single string and split them\n",
    "all_genres = ','.join(merged_data['Genre'].explode().dropna())\n",
    "split_genres = [genre.strip() for genre in all_genres.split(',')]\n",
    "\n",
    "# Get the frequency of each individual genre\n",
    "genre_counts = pd.Series(split_genres).value_counts()\n",
    "\n",
    "# Calculate the percentage of each genre\n",
    "genre_percentages = (genre_counts / genre_counts.sum()) * 100\n",
    "\n",
    "# Identify genres above 1.5% representation\n",
    "genres_above_threshold = genre_percentages[genre_percentages >= 1.5].index.tolist()\n",
    "\n",
    "# Filter out rows with genres above the 1.5% threshold\n",
    "rows_below_threshold = merged_data[~merged_data['Genre'].apply(lambda x: any(item in genres_above_threshold for item in x))]\n",
    "\n",
    "# Select 500 random rows per genre for genres above 1.5% representation\n",
    "selected_above_threshold = []\n",
    "\n",
    "for genre in genres_above_threshold:\n",
    "    rows_genre = merged_data[merged_data['Genre'].apply(lambda x: genre in x)]\n",
    "    if len(rows_genre) > 500:\n",
    "        selected_rows = rows_genre.sample(n=500, random_state=42)\n",
    "        selected_above_threshold.append(selected_rows)\n",
    "    else:\n",
    "        selected_above_threshold.append(rows_genre)\n",
    "\n",
    "# Combine the selected rows\n",
    "final_selected_above_threshold = pd.concat(selected_above_threshold)\n",
    "\n",
    "# Displaying the shape of the final selected dataset\n",
    "print(\"Shape of dataset with genres above 1.5% (500 rows per genre):\", final_selected_above_threshold.shape)\n",
    "\n"
   ]
  },
  {
   "cell_type": "code",
   "execution_count": 51,
   "metadata": {},
   "outputs": [
    {
     "ename": "NameError",
     "evalue": "name 'final_selected' is not defined",
     "output_type": "error",
     "traceback": [
      "\u001b[1;31m---------------------------------------------------------------------------\u001b[0m",
      "\u001b[1;31mNameError\u001b[0m                                 Traceback (most recent call last)",
      "Cell \u001b[1;32mIn[51], line 4\u001b[0m\n\u001b[0;32m      1\u001b[0m \u001b[38;5;28;01mimport\u001b[39;00m \u001b[38;5;21;01mmatplotlib\u001b[39;00m\u001b[38;5;21;01m.\u001b[39;00m\u001b[38;5;21;01mpyplot\u001b[39;00m \u001b[38;5;28;01mas\u001b[39;00m \u001b[38;5;21;01mplt\u001b[39;00m\n\u001b[0;32m      3\u001b[0m \u001b[38;5;66;03m# Combine all genres into a single string and split them\u001b[39;00m\n\u001b[1;32m----> 4\u001b[0m all_genres \u001b[38;5;241m=\u001b[39m \u001b[38;5;124m'\u001b[39m\u001b[38;5;124m,\u001b[39m\u001b[38;5;124m'\u001b[39m\u001b[38;5;241m.\u001b[39mjoin(\u001b[43mfinal_selected\u001b[49m[\u001b[38;5;124m'\u001b[39m\u001b[38;5;124mGenre\u001b[39m\u001b[38;5;124m'\u001b[39m]\u001b[38;5;241m.\u001b[39mexplode()\u001b[38;5;241m.\u001b[39mdropna())\n\u001b[0;32m      5\u001b[0m split_genres \u001b[38;5;241m=\u001b[39m [genre\u001b[38;5;241m.\u001b[39mstrip() \u001b[38;5;28;01mfor\u001b[39;00m genre \u001b[38;5;129;01min\u001b[39;00m all_genres\u001b[38;5;241m.\u001b[39msplit(\u001b[38;5;124m'\u001b[39m\u001b[38;5;124m,\u001b[39m\u001b[38;5;124m'\u001b[39m)]\n\u001b[0;32m      7\u001b[0m \u001b[38;5;66;03m# Get the frequency of each individual genre\u001b[39;00m\n",
      "\u001b[1;31mNameError\u001b[0m: name 'final_selected' is not defined"
     ]
    }
   ],
   "source": [
    "import matplotlib.pyplot as plt\n",
    "\n",
    "# Combine all genres into a single string and split them\n",
    "all_genres = ','.join(final_selected['Genre'].explode().dropna())\n",
    "split_genres = [genre.strip() for genre in all_genres.split(',')]\n",
    "\n",
    "# Get the frequency of each individual genre\n",
    "genre_counts = pd.Series(split_genres).value_counts()\n",
    "\n",
    "# Calculate the percentage of each genre\n",
    "genre_percentages = (genre_counts / genre_counts.sum()) * 100\n",
    "\n",
    "# Sort genres by count in descending order\n",
    "sorted_genres = genre_percentages.sort_values(ascending=False)\n",
    "\n",
    "# Create bar chart for individual genre distribution with numbers above bars\n",
    "plt.figure(figsize=(12, 6))\n",
    "bars = plt.bar(sorted_genres.index, sorted_genres, color='skyblue')\n",
    "plt.title('Percentage of Each Individual Genre in the Dataset')\n",
    "plt.xlabel('Genres')\n",
    "plt.ylabel('Percentage (%)')\n",
    "plt.xticks(rotation=90)\n",
    "\n",
    "# Add text labels for each bar\n",
    "for bar in bars:\n",
    "    yval = bar.get_height()\n",
    "    plt.text(bar.get_x() + bar.get_width() / 2, yval + 1, round(yval, 2), ha='center', va='bottom')\n",
    "\n",
    "plt.tight_layout()\n",
    "plt.show()\n"
   ]
  }
 ],
 "metadata": {
  "kernelspec": {
   "display_name": "env",
   "language": "python",
   "name": "python3"
  },
  "language_info": {
   "codemirror_mode": {
    "name": "ipython",
    "version": 3
   },
   "file_extension": ".py",
   "mimetype": "text/x-python",
   "name": "python",
   "nbconvert_exporter": "python",
   "pygments_lexer": "ipython3",
   "version": "3.11.7"
  }
 },
 "nbformat": 4,
 "nbformat_minor": 2
}
