{
 "cells": [
  {
   "cell_type": "code",
   "execution_count": null,
   "metadata": {},
   "outputs": [],
   "source": [
    "import pandas as pd"
   ]
  },
  {
   "cell_type": "markdown",
   "metadata": {},
   "source": [
    "--------------------------------------------\n",
    "https://www.kaggle.com/datasets/andrezaza/clapper-massive-rotten-tomatoes-movies-and-reviews\n"
   ]
  },
  {
   "cell_type": "code",
   "execution_count": null,
   "metadata": {},
   "outputs": [],
   "source": [
    "rot_critic = pd.read_csv('C:\\\\Users\\huawei\\\\Documents\\\\GitHub\\\\Capstone-Project\\\\Movie_Files\\\\archive\\\\rotten_tomatoes_critic_reviews.csv')\n",
    "rot_movies = pd.read_csv('C:\\\\Users\\huawei\\\\Documents\\\\GitHub\\\\Capstone-Project\\\\Movie_Files\\\\archive\\\\rotten_tomatoes_movies.csv')\n"
   ]
  },
  {
   "cell_type": "code",
   "execution_count": null,
   "metadata": {},
   "outputs": [],
   "source": [
    "rot_critic.info()"
   ]
  },
  {
   "cell_type": "code",
   "execution_count": null,
   "metadata": {},
   "outputs": [],
   "source": [
    "rot_movies.info()"
   ]
  },
  {
   "cell_type": "markdown",
   "metadata": {},
   "source": [
    "------------------------------------------------------------------\n",
    "https://www.kaggle.com/datasets/stefanoleone992/rotten-tomatoes-movies-and-critic-reviews-dataset?select=rotten_tomatoes_critic_reviews.csv\n"
   ]
  },
  {
   "cell_type": "code",
   "execution_count": null,
   "metadata": {},
   "outputs": [],
   "source": [
    "rot_movies2 = pd.read_csv('C:\\\\Users\\huawei\\\\Documents\\\\GitHub\\\\Capstone-Project\\\\Movie_Files\\\\archive (2)\\\\rotten_tomatoes_movies.csv')\n",
    "rot_critic2 = pd.read_csv('C:\\\\Users\\huawei\\\\Documents\\\\GitHub\\\\Capstone-Project\\\\Movie_Files\\\\archive (2)\\\\rotten_tomatoes_critic_reviews.csv')\n"
   ]
  },
  {
   "cell_type": "code",
   "execution_count": null,
   "metadata": {},
   "outputs": [],
   "source": [
    "rot_movies2.info()"
   ]
  },
  {
   "cell_type": "code",
   "execution_count": null,
   "metadata": {},
   "outputs": [],
   "source": [
    "rot_critic2.info()"
   ]
  },
  {
   "cell_type": "markdown",
   "metadata": {},
   "source": [
    "-------------------------------------------------\n",
    "https://www.kaggle.com/datasets/karkavelrajaj/imdb-top-250-movies"
   ]
  },
  {
   "cell_type": "code",
   "execution_count": null,
   "metadata": {},
   "outputs": [],
   "source": [
    "movies = pd.read_csv('C:\\\\Users\\huawei\\\\Documents\\\\GitHub\\\\Capstone-Project\\\\Movie_Files\\\\movies.csv')"
   ]
  },
  {
   "cell_type": "code",
   "execution_count": null,
   "metadata": {},
   "outputs": [],
   "source": [
    "movies.info()"
   ]
  },
  {
   "cell_type": "markdown",
   "metadata": {},
   "source": [
    "---------------------------------------------\n",
    "https://www.kaggle.com/datasets/s4lman/reelview-top-movie-lists-reviews"
   ]
  },
  {
   "cell_type": "code",
   "execution_count": null,
   "metadata": {},
   "outputs": [],
   "source": [
    "reel_review = pd.read_csv('C:\\\\Users\\huawei\\\\Documents\\\\GitHub\\\\Capstone-Project\\\\Movie_Files\\\\ReelView.csv')"
   ]
  },
  {
   "cell_type": "code",
   "execution_count": null,
   "metadata": {},
   "outputs": [],
   "source": [
    "reel_review.info()"
   ]
  }
 ],
 "metadata": {
  "kernelspec": {
   "display_name": "env",
   "language": "python",
   "name": "python3"
  },
  "language_info": {
   "name": "python",
   "version": "3.11.6"
  }
 },
 "nbformat": 4,
 "nbformat_minor": 2
}
